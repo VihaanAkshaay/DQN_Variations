{
 "cells": [
  {
   "cell_type": "markdown",
   "metadata": {},
   "source": [
    "# DQN with modifications ( Acrobot -v1 ) "
   ]
  },
  {
   "cell_type": "code",
   "execution_count": 11,
   "metadata": {},
   "outputs": [],
   "source": [
    "import gym\n",
    "import random\n",
    "import torch\n",
    "import numpy as np \n",
    "from collections import deque\n",
    "import datetime\n",
    "import matplotlib.pyplot as plt\n",
    "%matplotlib inline"
   ]
  },
  {
   "cell_type": "markdown",
   "metadata": {},
   "source": [
    "## Environment - 'Acrobot - v1'"
   ]
  },
  {
   "cell_type": "code",
   "execution_count": 12,
   "metadata": {},
   "outputs": [
    {
     "name": "stdout",
     "output_type": "stream",
     "text": [
      "State shape:  6\n",
      "Action shape:  3\n"
     ]
    }
   ],
   "source": [
    "env = gym.make('Acrobot-v1')\n",
    "env.seed(0)\n",
    "\n",
    "state_shape = env.observation_space.shape[0]\n",
    "action_shape = env.action_space.n\n",
    "\n",
    "print('State shape: ', state_shape)\n",
    "print('Action shape: ', action_shape)"
   ]
  },
  {
   "cell_type": "markdown",
   "metadata": {},
   "source": [
    "## Overall DQN Function"
   ]
  },
  {
   "cell_type": "code",
   "execution_count": 13,
   "metadata": {},
   "outputs": [],
   "source": [
    "def dqn(n_episodes=10000, max_t=1000, eps_start=1.0, eps_end=0.01, eps_decay=0.995):\n",
    "    \"\"\"Deep Q-Learning.\n",
    "    \n",
    "    Params\n",
    "    ======\n",
    "        n_episodes (int): maximum number of training episodes\n",
    "        max_t (int): maximum number of timesteps per episode\n",
    "        eps_start (float): starting value of epsilon, for epsilon-greedy action selection\n",
    "        eps_end (float): minimum value of epsilon\n",
    "        eps_decay (float): multiplicative factor (per episode) for decreasing epsilon\n",
    "    \"\"\"\n",
    "    scores = []                 # list containing scores from each episode\n",
    "    scores_window_printing = deque(maxlen=10) # For printing in the graph\n",
    "    scores_window= deque(maxlen=100)  # last 100 scores for checking if the avg is more than 195\n",
    "    eps = eps_start                    # initialize epsilon\n",
    "    for i_episode in range(1, n_episodes+1):\n",
    "        state = env.reset()\n",
    "        score = 0\n",
    "        for t in range(max_t):\n",
    "            action = agent.act(state, eps)\n",
    "            next_state, reward, done, _ = env.step(action)\n",
    "            agent.step(state, action, reward, next_state, done)\n",
    "            state = next_state\n",
    "            score += reward\n",
    "            if done:\n",
    "                break \n",
    "        scores_window.append(score)       # save most recent score\n",
    "        scores_window_printing.append(score)              # save most recent score\n",
    "        eps = max(eps_end, eps_decay*eps) # decrease epsilon\n",
    "        print('\\rEpisode {}\\tAverage Score: {:.2f}'.format(i_episode, np.mean(scores_window)), end=\"\")  \n",
    "        if i_episode % 10 == 0: \n",
    "            scores.append(np.mean(scores_window_printing))        \n",
    "        if i_episode % 100 == 0: \n",
    "            print('\\rEpisode {}\\tAverage Score: {:.2f}'.format(i_episode, np.mean(scores_window)))\n",
    "        if np.mean(scores_window)>=-80.0:\n",
    "            print('\\nEnvironment solved in {:d} episodes!\\tAverage Score: {:.2f}'.format(i_episode-100, np.mean(scores_window)))\n",
    "            break\n",
    "    return [np.array(scores),i_episode-100]\n"
   ]
  },
  {
   "cell_type": "markdown",
   "metadata": {},
   "source": [
    "# Case 1- (+Q + E + T)\n",
    "\n",
    "### Neural Network \n",
    "Input Layer - 4 nodes (State Shape) \\\n",
    "Hidden Layer 1 - 64 nodes \\\n",
    "Hidden Layer 2 - 64 nodes \\\n",
    "Output Layer - 2 nodes (Action Space) \\\n",
    "Optimizer - zero_grad()\n",
    "\n",
    "### Network Update Frequency (YES)\n",
    "Frequency of network switch - Every 10 episodes\n",
    "\n",
    "###  Experience Replay (YES)\n",
    "Total Replay Buffer Size - 10,000\n",
    "Mini Batch Size - 64\n",
    "\n",
    "### Loss Clipping (YES)\n",
    "Gradient is clipped to 1 & -1\n"
   ]
  },
  {
   "cell_type": "code",
   "execution_count": null,
   "metadata": {},
   "outputs": [
    {
     "name": "stdout",
     "output_type": "stream",
     "text": [
      "Episode 100\tAverage Score: -388.89\n",
      "Episode 200\tAverage Score: -179.71\n",
      "Episode 300\tAverage Score: -129.38\n",
      "Episode 400\tAverage Score: -107.94\n",
      "Episode 500\tAverage Score: -101.82\n",
      "Episode 600\tAverage Score: -89.627\n",
      "Episode 700\tAverage Score: -88.83\n",
      "Episode 800\tAverage Score: -93.75\n",
      "Episode 900\tAverage Score: -98.990\n",
      "Episode 1000\tAverage Score: -87.59\n",
      "Episode 1059\tAverage Score: -88.74"
     ]
    }
   ],
   "source": [
    "from config1 import Agent\n",
    "\n",
    "#agent = Agent(state_size=6,action_size = 3,seed = 0)\n",
    "no_siblings1 = 20\n",
    "sibling_scores1 = []\n",
    "sibling_lives1 = np.zeros(no_siblings1)\n",
    "\n",
    "begin_time1 = datetime.datetime.now()\n",
    "for i in range(no_siblings1):\n",
    "    \n",
    "    agent = Agent(state_size=state_shape,action_size = action_shape,seed = 0)\n",
    "    [temp_scores,sibling_lives1[i]] = dqn()\n",
    "    sibling_scores1.append(temp_scores)\n",
    "  \n",
    "time_taken1 = datetime.datetime.now() - begin_time\n"
   ]
  },
  {
   "cell_type": "code",
   "execution_count": null,
   "metadata": {},
   "outputs": [],
   "source": [
    "fig = plt.figure()\n",
    "ax = fig.add_subplot(111)\n",
    "\n",
    "for i in range(no_siblings1):\n",
    "    plt.plot(np.arange(len(sibling_scores1[i])), sibling_scores1[i])\n",
    "    \n",
    "    \n",
    "plt.ylabel('Score')\n",
    "plt.xlabel('Episode #')\n",
    "plt.show()\n",
    "\n",
    "print(np.mean(sibling_lives1))\n",
    "print(np.std(sibling_lives1))\n",
    "print(time_taken1)"
   ]
  },
  {
   "cell_type": "markdown",
   "metadata": {},
   "source": [
    "# Case 2- (+Q + E - T)\n",
    "\n",
    "### Neural Network \n",
    "Input Layer - 4 nodes (State Shape)\n",
    "Hidden Layer 1 - 64 nodes\n",
    "Hidden Layer 2 - 64 nodes\n",
    "Output Layer - 2 nodes (Action Space)\n",
    "Optimizer - zero_grad()\n",
    "\n",
    "### Network Update Frequency (YES)\n",
    "Frequency of network switch - Every 10 episodes\n",
    "\n",
    "###  Experience Replay (YES)\n",
    "Total Replay Buffer Size - 10,000\n",
    "Mini Batch Size - 64\n",
    "\n",
    "### Loss Clipping (NO)\n",
    "No Gradient clipping present"
   ]
  },
  {
   "cell_type": "code",
   "execution_count": null,
   "metadata": {},
   "outputs": [],
   "source": [
    "from config2 import Agent\n",
    "\n",
    "#agent = Agent(state_size=6,action_size = 3,seed = 0)\n",
    "no_siblings2 = 15\n",
    "sibling_scores2 = []\n",
    "sibling_lives2 = np.zeros(no_siblings1)\n",
    "\n",
    "\n",
    "begin_time = datetime.datetime.now()\n",
    "for i in range(no_siblings2):\n",
    "    \n",
    "    agent = Agent(state_size=state_shape,action_size = action_shape,seed = 0)\n",
    "    [temp_scores,sibling_lives2[i]] = dqn()\n",
    "    sibling_scores2.append(temp_scores)\n",
    "    \n",
    "time_taken2 = datetime.datetime.now() - begin_time"
   ]
  },
  {
   "cell_type": "code",
   "execution_count": null,
   "metadata": {},
   "outputs": [],
   "source": [
    "fig = plt.figure()\n",
    "ax = fig.add_subplot(111)\n",
    "\n",
    "for i in range(no_siblings2):\n",
    "    plt.plot(np.arange(len(sibling_scores2[i])), sibling_scores2[i])\n",
    "    \n",
    "    \n",
    "plt.ylabel('Score')\n",
    "plt.xlabel('Episode #')\n",
    "plt.show()\n",
    "\n",
    "print(np.mean(sibling_lives2))\n",
    "print(np.std(sibling_lives2))\n",
    "print(time_taken2)"
   ]
  },
  {
   "cell_type": "markdown",
   "metadata": {},
   "source": [
    "# Case 3- (+Q -E +T)\n",
    "\n",
    "### Neural Network \n",
    "Input Layer - 4 nodes (State Shape)\n",
    "Hidden Layer 1 - 64 nodes\n",
    "Hidden Layer 2 - 64 nodes\n",
    "Output Layer - 2 nodes (Action Space)\n",
    "Optimizer - zero_grad()\n",
    "\n",
    "### Network Update Frequency (YES)\n",
    "Frequency of network switch - Every 5 episodes\n",
    "\n",
    "###  Experience Replay (NO)\n",
    "No Experience Replay / Experience Replay of Size 1\n",
    "\n",
    "### Loss Clipping (YES)\n",
    "Gradient is clipped to 1 & -1"
   ]
  },
  {
   "cell_type": "code",
   "execution_count": null,
   "metadata": {},
   "outputs": [],
   "source": [
    "from config3 import Agent\n",
    "\n",
    "#agent = Agent(state_size=6,action_size = 3,seed = 0)\n",
    "no_siblings3 = 15\n",
    "sibling_scores3 = []\n",
    "sibling_lives3 = np.zeros(no_siblings3)\n",
    "\n",
    "begin_time = datetime.datetime.now()\n",
    "for i in range(no_siblings3):\n",
    "    \n",
    "    agent = Agent(state_size=state_shape,action_size = action_shape,seed = 0)\n",
    "    [temp_scores,sibling_lives3[i]] = dqn()\n",
    "    sibling_scores3.append(temp_scores)\n",
    "   \n",
    "time_taken3 = datetime.datetime.now() - begin_time"
   ]
  },
  {
   "cell_type": "code",
   "execution_count": null,
   "metadata": {},
   "outputs": [],
   "source": [
    "fig = plt.figure()\n",
    "ax = fig.add_subplot(111)\n",
    "\n",
    "for i in range(no_siblings3):\n",
    "    plt.plot(np.arange(len(sibling_scores3[i])), sibling_scores3[i])\n",
    "    \n",
    "    \n",
    "plt.ylabel('Score')\n",
    "plt.xlabel('Episode #')\n",
    "plt.show()\n",
    "\n",
    "print(np.mean(sibling_lives3))\n",
    "print(np.std(sibling_lives3))\n",
    "print(time_taken3)"
   ]
  },
  {
   "cell_type": "markdown",
   "metadata": {},
   "source": [
    "# Case 4- (+Q -E -T)\n",
    "\n",
    "### Neural Network \n",
    "Input Layer - 4 nodes (State Shape)\n",
    "Hidden Layer 1 - 64 nodes\n",
    "Hidden Layer 2 - 64 nodes\n",
    "Output Layer - 2 nodes (Action Space)\n",
    "Optimizer - zero_grad()\n",
    "\n",
    "### Network Update Frequency (YES)\n",
    "Frequency of network switch - Every 5 episodes\n",
    "\n",
    "###  Experience Replay (NO)\n",
    "No Experience Replay / Experience Replay of Size 1\n",
    "\n",
    "### Loss Clipping (NO)\n",
    "No Gradient clipping present"
   ]
  },
  {
   "cell_type": "code",
   "execution_count": null,
   "metadata": {},
   "outputs": [],
   "source": [
    "from config4 import Agent\n",
    "\n",
    "#agent = Agent(state_size=6,action_size = 3,seed = 0)\n",
    "no_siblings4 = 15\n",
    "sibling_scores4 = []\n",
    "sibling_lives4 = np.zeros(no_siblings4)\n",
    "\n",
    "begin_time = datetimedatetime.now()\n",
    "for i in range(no_siblings4):\n",
    "    \n",
    "    agent = Agent(state_size=state_shape,action_size = action_shape,seed = 0)\n",
    "    [temp_scores,sibling_lives4[i]] = dqn()\n",
    "    sibling_scores4.append(temp_scores)\n",
    "   \n",
    "time_taken4 = datetime.datetime.now() - begin_time"
   ]
  },
  {
   "cell_type": "code",
   "execution_count": null,
   "metadata": {},
   "outputs": [],
   "source": [
    "fig = plt.figure()\n",
    "ax = fig.add_subplot(111)\n",
    "\n",
    "for i in range(no_siblings4):\n",
    "    plt.plot(np.arange(len(sibling_scores4[i])), sibling_scores4[i])\n",
    "    \n",
    "    \n",
    "plt.ylabel('Score')\n",
    "plt.xlabel('Episode #')\n",
    "plt.show()\n",
    "\n",
    "print(np.mean(sibling_lives4))\n",
    "print(np.std(sibling_lives4))\n",
    "print(time_taken4)"
   ]
  },
  {
   "cell_type": "markdown",
   "metadata": {},
   "source": [
    "# Case 5- (-Q +E +T)\n",
    "\n",
    "### Neural Network \n",
    "Input Layer - 4 nodes (State Shape)\n",
    "Hidden Layer 1 - 64 nodes\n",
    "Hidden Layer 2 - 64 nodes\n",
    "Output Layer - 2 nodes (Action Space)\n",
    "Optimizer - zero_grad()\n",
    "\n",
    "### Networks Update Frequency (NO)\n",
    "Frequency of network switch - Every episode\n",
    "\n",
    "###  Experience Replay (YES)\n",
    "Total Replay Buffer Size - 10,000\n",
    "Mini Batch Size - 64\n",
    "\n",
    "### Loss Clipping (YES)\n",
    "Gradient is clipped to 1 & -1"
   ]
  },
  {
   "cell_type": "code",
   "execution_count": null,
   "metadata": {},
   "outputs": [],
   "source": [
    "from config5 import Agent\n",
    "\n",
    "#agent = Agent(state_size=6,action_size = 3,seed = 0)\n",
    "no_siblings5 = 15\n",
    "sibling_scores5 = []\n",
    "sibling_lives5 = np.zeros(no_siblings5)\n",
    "\n",
    "begin_time = datetime.datetime.now()\n",
    "for i in range(no_siblings5):\n",
    "    \n",
    "    agent = Agent(state_size=state_shape,action_size = action_shape,seed = 0)\n",
    "    [temp_scores,sibling_lives5[i]] = dqn()\n",
    "    sibling_scores5.append(temp_scores)\n",
    "   \n",
    "time_taken5 = datetime.datetime.now() - begin_time"
   ]
  },
  {
   "cell_type": "code",
   "execution_count": null,
   "metadata": {},
   "outputs": [],
   "source": [
    "fig = plt.figure()\n",
    "ax = fig.add_subplot(111)\n",
    "\n",
    "for i in range(no_siblings5):\n",
    "    plt.plot(np.arange(len(sibling_scores5[i])), sibling_scores5[i])\n",
    "    \n",
    "    \n",
    "plt.ylabel('Score')\n",
    "plt.xlabel('Episode #')\n",
    "plt.show()\n",
    "\n",
    "print(np.mean(sibling_lives5))\n",
    "print(np.std(sibling_lives5))\n",
    "print(time_taken5)"
   ]
  },
  {
   "cell_type": "markdown",
   "metadata": {},
   "source": [
    "# Case 6: (-Q +E -T)\n",
    "\n",
    "### Neural Network \n",
    "Input Layer - 4 nodes (State Shape)\n",
    "Hidden Layer 1 - 64 nodes\n",
    "Hidden Layer 2 - 64 nodes\n",
    "Output Layer - 2 nodes (Action Space)\n",
    "Optimizer - zero_grad()\n",
    "\n",
    "### Network Update Frequency (NO)\n",
    "Frequency of network switch - Every episode\n",
    "\n",
    "###  Experience Replay (YES)\n",
    "Total Replay Buffer Size - 10,000\n",
    "Mini Batch Size - 64\n",
    "\n",
    "### Loss Clipping (NO)\n",
    "No Gradient clipping present"
   ]
  },
  {
   "cell_type": "code",
   "execution_count": null,
   "metadata": {},
   "outputs": [],
   "source": [
    "from config6 import Agent\n",
    "\n",
    "#agent = Agent(state_size=6,action_size = 3,seed = 0)\n",
    "no_siblings6 = 15\n",
    "sibling_scores6 = []\n",
    "sibling_lives6 = np.zeros(no_siblings6)\n",
    "\n",
    "begin_time = datetime.datetime.now()\n",
    "for i in range(no_siblings6):\n",
    "    \n",
    "    agent = Agent(state_size=state_shape,action_size = action_shape,seed = 0)\n",
    "    [temp_scores,sibling_lives6[i]] = dqn()\n",
    "    sibling_scores6.append(temp_scores)\n",
    "\n",
    "time_taken6 = datetime.datetime.now() - begin_time"
   ]
  },
  {
   "cell_type": "code",
   "execution_count": null,
   "metadata": {},
   "outputs": [],
   "source": [
    "fig = plt.figure()\n",
    "ax = fig.add_subplot(111)\n",
    "\n",
    "for i in range(no_siblings6):\n",
    "    plt.plot(np.arange(len(sibling_scores6[i])), sibling_scores6[i])\n",
    "    \n",
    "    \n",
    "plt.ylabel('Score')\n",
    "plt.xlabel('Episode #')\n",
    "plt.show()\n",
    "\n",
    "print(np.mean(sibling_lives6))\n",
    "print(np.std(sibling_lives6))\n",
    "print(time_taken6)"
   ]
  },
  {
   "cell_type": "markdown",
   "metadata": {},
   "source": [
    "# Case 7: (-Q -E +T)\n",
    "\n",
    "### Neural Network \n",
    "Input Layer - 4 nodes (State Shape)\n",
    "Hidden Layer 1 - 64 nodes\n",
    "Hidden Layer 2 - 64 nodes\n",
    "Output Layer - 2 nodes (Action Space)\n",
    "Optimizer - zero_grad()\n",
    "\n",
    "### Network Update Frequency \n",
    "Frequency of network switch - Every episode\n",
    "\n",
    "###  Experience Replay\n",
    "No Experience Replay / Experience Replay of Size 1\n",
    "\n",
    "### Loss Clipping\n",
    "Gradient is clipped to 1 & -1"
   ]
  },
  {
   "cell_type": "code",
   "execution_count": null,
   "metadata": {},
   "outputs": [],
   "source": [
    "from config7 import Agent\n",
    "\n",
    "#agent = Agent(state_size=6,action_size = 3,seed = 0)\n",
    "no_siblings7 = 15\n",
    "sibling_scores7 = []\n",
    "sibling_lives7 = np.zeros(no_siblings1)\n",
    "\n",
    "begin_time = datetime.datetime.now()\n",
    "for i in range(no_siblings7):\n",
    "    \n",
    "    agent = Agent(state_size=state_shape,action_size = action_shape,seed = 0)\n",
    "    [temp_scores,sibling_lives7[i]] = dqn()\n",
    "    sibling_scores7.append(temp_scores)\n",
    "   \n",
    "time_taken7 = datetime.datetime.now() - begin_time"
   ]
  },
  {
   "cell_type": "code",
   "execution_count": null,
   "metadata": {},
   "outputs": [],
   "source": [
    "fig = plt.figure()\n",
    "ax = fig.add_subplot(111)\n",
    "\n",
    "for i in range(no_siblings7):\n",
    "    plt.plot(np.arange(len(sibling_scores[i])), sibling_scores7[i])\n",
    "    \n",
    "    \n",
    "plt.ylabel('Score')\n",
    "plt.xlabel('Episode #')\n",
    "plt.show()\n",
    "\n",
    "print(np.mean(sibling_lives7))\n",
    "print(np.std(sibling_lives7))\n",
    "print(time_taken7)"
   ]
  },
  {
   "cell_type": "markdown",
   "metadata": {},
   "source": [
    "# Case 8: (-Q -E -T)\n",
    "\n",
    "### Neural Network \n",
    "Input Layer - 4 nodes (State Shape)\n",
    "Hidden Layer 1 - 64 nodes\n",
    "Hidden Layer 2 - 64 nodes\n",
    "Output Layer - 2 nodes (Action Space)\n",
    "Optimizer - zero_grad()\n",
    "\n",
    "### Network Update Frequency \n",
    "Frequency of network switch - Every episode\n",
    "\n",
    "###  Experience Replay\n",
    "No Experience Replay / Experience Replay of Size 1\n",
    "\n",
    "### Loss Clipping\n",
    "No Gradient clipping present"
   ]
  },
  {
   "cell_type": "code",
   "execution_count": null,
   "metadata": {},
   "outputs": [],
   "source": [
    "from config8 import Agent\n",
    "\n",
    "#agent = Agent(state_size=6,action_size = 3,seed = 0)\n",
    "no_siblings8 = 15\n",
    "sibling_scores8 = []\n",
    "sibling_lives8 = np.zeros(no_siblings8)\n",
    "\n",
    "begin_time = datetime.datetime.now()\n",
    "for i in range(no_siblings8):\n",
    "    \n",
    "    agent = Agent(state_size=state_shape,action_size = action_shape,seed = 0)\n",
    "    [temp_scores,sibling_lives8[i]] = dqn()\n",
    "    sibling_scores8.append(temp_scores)\n",
    "   \n",
    "time_taken8 = datetime.datetime.now() - begin_time"
   ]
  },
  {
   "cell_type": "code",
   "execution_count": null,
   "metadata": {},
   "outputs": [],
   "source": [
    "fig = plt.figure()\n",
    "ax = fig.add_subplot(111)\n",
    "\n",
    "for i in range(no_siblings8):\n",
    "    plt.plot(np.arange(len(sibling_scores8[i])), sibling_scores8[i])\n",
    "    \n",
    "    \n",
    "plt.ylabel('Score')\n",
    "plt.xlabel('Episode #')\n",
    "plt.show()\n",
    "\n",
    "print(np.mean(sibling_lives8))\n",
    "print(np.std(sibling_lives8))\n",
    "print(time_taken8)"
   ]
  },
  {
   "cell_type": "code",
   "execution_count": null,
   "metadata": {},
   "outputs": [],
   "source": [
    "# Calculating time taken for the code to run\n"
   ]
  }
 ],
 "metadata": {
  "kernelspec": {
   "display_name": "rl",
   "language": "python",
   "name": "rl"
  },
  "language_info": {
   "codemirror_mode": {
    "name": "ipython",
    "version": 3
   },
   "file_extension": ".py",
   "mimetype": "text/x-python",
   "name": "python",
   "nbconvert_exporter": "python",
   "pygments_lexer": "ipython3",
   "version": "3.8.5"
  }
 },
 "nbformat": 4,
 "nbformat_minor": 4
}
