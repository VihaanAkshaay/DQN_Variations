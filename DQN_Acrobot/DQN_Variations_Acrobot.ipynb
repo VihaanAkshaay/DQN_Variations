{
 "cells": [
  {
   "cell_type": "markdown",
   "metadata": {},
   "source": [
    "# DQN with modifications ( Acrobot -v1 ) "
   ]
  },
  {
   "cell_type": "code",
   "execution_count": 2,
   "metadata": {},
   "outputs": [],
   "source": [
    "import gym\n",
    "import random\n",
    "import torch\n",
    "import numpy as np \n",
    "from collections import deque\n",
    "import matplotlib.pyplot as plt\n",
    "%matplotlib inline"
   ]
  },
  {
   "cell_type": "markdown",
   "metadata": {},
   "source": [
    "## Environment - 'Acrobot - v1'"
   ]
  },
  {
   "cell_type": "code",
   "execution_count": 3,
   "metadata": {},
   "outputs": [
    {
     "name": "stdout",
     "output_type": "stream",
     "text": [
      "State shape:  6\n",
      "Action shape:  3\n"
     ]
    }
   ],
   "source": [
    "env = gym.make('Acrobot-v1')\n",
    "env.seed(0)\n",
    "\n",
    "state_shape = env.observation_space.shape[0]\n",
    "action_shape = env.action_space.n\n",
    "\n",
    "print('State shape: ', state_shape)\n",
    "print('Action shape: ', action_shape)"
   ]
  },
  {
   "cell_type": "markdown",
   "metadata": {},
   "source": [
    "# Case 1- (+Q + E + T)\n",
    "\n",
    "### Neural Network \n",
    "Input Layer - 4 nodes (State Shape) \\\n",
    "Hidden Layer 1 - 64 nodes \\\n",
    "Hidden Layer 2 - 64 nodes \\\n",
    "Output Layer - 2 nodes (Action Space) \\\n",
    "Optimizer - zero_grad()\n",
    "\n",
    "### Network Update Frequency (YES)\n",
    "Frequency of network switch - Every 5 episodes\n",
    "\n",
    "###  Experience Replay (YES)\n",
    "Total Replay Buffer Size - 10,000\n",
    "Mini Batch Size - 64\n",
    "\n",
    "### Loss Clipping (YES)\n",
    "Gradient is clipped to 1 & -1\n"
   ]
  },
  {
   "cell_type": "code",
   "execution_count": null,
   "metadata": {},
   "outputs": [
    {
     "name": "stdout",
     "output_type": "stream",
     "text": [
      "Episode 100\tAverage Score: -374.27\n",
      "Episode 200\tAverage Score: -187.64\n",
      "Episode 300\tAverage Score: -133.86\n",
      "Episode 400\tAverage Score: -112.71\n",
      "Episode 500\tAverage Score: -100.35\n",
      "Episode 600\tAverage Score: -99.215\n",
      "Episode 700\tAverage Score: -97.042\n",
      "Episode 800\tAverage Score: -93.90\n",
      "Episode 900\tAverage Score: -104.49\n",
      "Episode 1000\tAverage Score: -98.30\n",
      "Episode 1100\tAverage Score: -95.923\n",
      "Episode 1200\tAverage Score: -92.98\n",
      "Episode 1300\tAverage Score: -88.83\n",
      "Episode 1400\tAverage Score: -93.53\n",
      "Episode 1500\tAverage Score: -92.09\n",
      "Episode 1600\tAverage Score: -86.99\n",
      "Episode 1700\tAverage Score: -90.21\n",
      "Episode 1800\tAverage Score: -88.16\n",
      "Episode 1900\tAverage Score: -84.64\n",
      "Episode 2000\tAverage Score: -90.45\n",
      "Episode 2100\tAverage Score: -87.90\n",
      "Episode 2200\tAverage Score: -87.83\n",
      "Episode 2300\tAverage Score: -86.76\n",
      "Episode 2400\tAverage Score: -84.02\n",
      "Episode 2500\tAverage Score: -89.30\n",
      "Episode 2577\tAverage Score: -84.20"
     ]
    }
   ],
   "source": [
    "from config1 import Agent\n",
    "\n",
    "#agent = Agent(state_size=6,action_size = 3,seed = 0)\n",
    "no_siblings = 15\n",
    "sibling_scores = []\n",
    "sibling_lives = np.zeros(no_siblings)\n",
    "\n",
    "\n",
    "def dqn(n_episodes=10000, max_t=1000, eps_start=1.0, eps_end=0.01, eps_decay=0.995):\n",
    "    \"\"\"Deep Q-Learning.\n",
    "    \n",
    "    Params\n",
    "    ======\n",
    "        n_episodes (int): maximum number of training episodes\n",
    "        max_t (int): maximum number of timesteps per episode\n",
    "        eps_start (float): starting value of epsilon, for epsilon-greedy action selection\n",
    "        eps_end (float): minimum value of epsilon\n",
    "        eps_decay (float): multiplicative factor (per episode) for decreasing epsilon\n",
    "    \"\"\"\n",
    "    scores = []                 # list containing scores from each episode\n",
    "    scores_window_printing = deque(maxlen=10) # For printing in the graph\n",
    "    scores_window= deque(maxlen=100)  # last 100 scores for checking if the avg is more than 195\n",
    "    eps = eps_start                    # initialize epsilon\n",
    "    for i_episode in range(1, n_episodes+1):\n",
    "        state = env.reset()\n",
    "        score = 0\n",
    "        for t in range(max_t):\n",
    "            action = agent.act(state, eps)\n",
    "            next_state, reward, done, _ = env.step(action)\n",
    "            agent.step(state, action, reward, next_state, done)\n",
    "            state = next_state\n",
    "            score += reward\n",
    "            if done:\n",
    "                break \n",
    "        scores_window.append(score)       # save most recent score\n",
    "        scores_window_printing.append(score)              # save most recent score\n",
    "        eps = max(eps_end, eps_decay*eps) # decrease epsilon\n",
    "        print('\\rEpisode {}\\tAverage Score: {:.2f}'.format(i_episode, np.mean(scores_window)), end=\"\")  \n",
    "        if i_episode % 10 == 0: \n",
    "            scores.append(np.mean(scores_window_printing))        \n",
    "        if i_episode % 100 == 0: \n",
    "            print('\\rEpisode {}\\tAverage Score: {:.2f}'.format(i_episode, np.mean(scores_window)))\n",
    "        if np.mean(scores_window)>=-80.0:\n",
    "            print('\\nEnvironment solved in {:d} episodes!\\tAverage Score: {:.2f}'.format(i_episode-100, np.mean(scores_window)))\n",
    "            torch.save(agent.qnetwork_local.state_dict(), 'checkpoint.pth')\n",
    "            break\n",
    "    return [np.array(scores),i_episode-100]\n",
    "\n",
    "fig = plt.figure()\n",
    "ax = fig.add_subplot(111)\n",
    "\n",
    "\n",
    "for i in range(no_siblings):\n",
    "    \n",
    "    agent = Agent(state_size=state_shape,action_size = action_shape,seed = 0)\n",
    "    [temp_scores,sibling_lives[i]] = dqn()\n",
    "    sibling_scores.append(temp_scores)\n",
    "    plt.plot(np.arange(len(temp_scores)), temp_scores)\n",
    "    \n",
    "        \n",
    "    \n",
    "plt.ylabel('Score')\n",
    "plt.xlabel('Episode #')\n",
    "plt.show()"
   ]
  },
  {
   "cell_type": "markdown",
   "metadata": {},
   "source": [
    "# Case 2- (+Q + E - T)\n",
    "\n",
    "### Neural Network \n",
    "Input Layer - 4 nodes (State Shape)\n",
    "Hidden Layer 1 - 64 nodes\n",
    "Hidden Layer 2 - 64 nodes\n",
    "Output Layer - 2 nodes (Action Space)\n",
    "Optimizer - zero_grad()\n",
    "\n",
    "### Network Update Frequency (YES)\n",
    "Frequency of network switch - Every 5 episodes\n",
    "\n",
    "###  Experience Replay (YES)\n",
    "Total Replay Buffer Size - 10,000\n",
    "Mini Batch Size - 64\n",
    "\n",
    "### Loss Clipping (NO)\n",
    "No Gradient clipping present"
   ]
  },
  {
   "cell_type": "code",
   "execution_count": null,
   "metadata": {},
   "outputs": [],
   "source": []
  },
  {
   "cell_type": "markdown",
   "metadata": {},
   "source": []
  }
 ],
 "metadata": {
  "kernelspec": {
   "display_name": "rl",
   "language": "python",
   "name": "rl"
  },
  "language_info": {
   "codemirror_mode": {
    "name": "ipython",
    "version": 3
   },
   "file_extension": ".py",
   "mimetype": "text/x-python",
   "name": "python",
   "nbconvert_exporter": "python",
   "pygments_lexer": "ipython3",
   "version": "3.8.5"
  }
 },
 "nbformat": 4,
 "nbformat_minor": 4
}
