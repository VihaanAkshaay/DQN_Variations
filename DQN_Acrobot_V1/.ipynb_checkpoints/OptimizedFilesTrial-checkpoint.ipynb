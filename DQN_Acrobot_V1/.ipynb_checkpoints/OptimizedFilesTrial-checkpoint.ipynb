{
 "cells": [
  {
   "cell_type": "code",
   "execution_count": null,
   "metadata": {},
   "outputs": [],
   "source": [
    "%load_ext autoreload\n",
    "%autoreload 2\n",
    "\n",
    "import gym\n",
    "import numpy as np\n",
    "import random\n",
    "from collections import namedtuple, deque\n",
    "\n",
    "\n",
    "\n",
    "import torch\n",
    "import torch.nn as nn\n",
    "import torch.nn.functional as F\n",
    "import torch.optim as optim\n",
    "\n",
    "import datetime\n",
    "import matplotlib.pyplot as plt\n",
    "%matplotlib inline"
   ]
  },
  {
   "cell_type": "code",
   "execution_count": null,
   "metadata": {},
   "outputs": [],
   "source": [
    "from QNetworks import QNetwork1\n",
    "from ReplayBuffer import ReplayBuffer\n",
    "from Agents import *\n",
    "from DQN_Algorithms import dqn_acrobot"
   ]
  },
  {
   "cell_type": "code",
   "execution_count": null,
   "metadata": {},
   "outputs": [],
   "source": [
    "env = gym.make('Acrobot-v1')\n",
    "env.seed(0)\n",
    "\n",
    "state_shape = env.observation_space.shape[0]\n",
    "action_shape = env.action_space.n\n",
    "\n",
    "print('State shape: ', state_shape)\n",
    "print('Action shape: ', action_shape)"
   ]
  },
  {
   "cell_type": "code",
   "execution_count": null,
   "metadata": {},
   "outputs": [],
   "source": [
    "def dqn(n_episodes=10000, max_t=1000, eps_start=1.0, eps_end=0.01, eps_decay=0.995):\n",
    "    \"\"\"Deep Q-Learning.\n",
    "    \n",
    "    Params\n",
    "    ======\n",
    "        n_episodes (int): maximum number of training episodes\n",
    "        max_t (int): maximum number of timesteps per episode\n",
    "        eps_start (float): starting value of epsilon, for epsilon-greedy action selection\n",
    "        eps_end (float): minimum value of epsilon\n",
    "        eps_decay (float): multiplicative factor (per episode) for decreasing epsilon\n",
    "    \"\"\"\n",
    "    scores = []                 # list containing scores from each episode\n",
    "    scores_window_printing = deque(maxlen=10) # For printing in the graph\n",
    "    scores_window= deque(maxlen=100)  # last 100 scores for checking if the avg is more than 195\n",
    "    eps = eps_start                    # initialize epsilon\n",
    "    for i_episode in range(1, n_episodes+1):\n",
    "        state = env.reset()\n",
    "        score = 0\n",
    "        for t in range(max_t):\n",
    "            action = agent.act(state, eps)\n",
    "            next_state, reward, done, _ = env.step(action)\n",
    "            agent.step(state, action, reward, next_state, done)\n",
    "            state = next_state\n",
    "            score += reward\n",
    "            if done:\n",
    "                break \n",
    "        scores_window.append(score)       # save most recent score\n",
    "        scores_window_printing.append(score)              # save most recent score\n",
    "        eps = max(eps_end, eps_decay*eps) # decrease epsilon\n",
    "        print('\\rEpisode {}\\tAverage Score: {:.2f}'.format(i_episode, np.mean(scores_window)), end=\"\")  \n",
    "        if i_episode % 10 == 0: \n",
    "            scores.append(np.mean(scores_window_printing))        \n",
    "        if i_episode % 100 == 0: \n",
    "            print('\\rEpisode {}\\tAverage Score: {:.2f}'.format(i_episode, np.mean(scores_window)))\n",
    "        if np.mean(scores_window)>=-80.0:\n",
    "            print('\\nEnvironment solved in {:d} episodes!\\tAverage Score: {:.2f}'.format(i_episode-100, np.mean(scores_window)))\n",
    "            break\n",
    "    return [np.array(scores),i_episode-100]"
   ]
  },
  {
   "cell_type": "code",
   "execution_count": null,
   "metadata": {},
   "outputs": [],
   "source": [
    "no_siblings1 = 1\n",
    "sibling_scores1 = []\n",
    "sibling_lives1 = np.zeros(no_siblings1)\n",
    "\n",
    "begin_time1 = datetime.datetime.now()\n",
    "for i in range(no_siblings1):\n",
    "    \n",
    "    agent = Agent1(state_size=state_shape,action_size = action_shape,seed = 0)\n",
    "    [temp_scores,sibling_lives1[i]] = dqn()\n",
    "    sibling_scores1.append(temp_scores)\n",
    "    \n",
    "no_siblings2 = 1\n",
    "sibling_scores2 = []\n",
    "sibling_lives2 = np.zeros(no_siblings2)\n",
    "\n",
    "begin_time1 = datetime.datetime.now()\n",
    "for i in range(no_siblings2):\n",
    "    \n",
    "    agent = Agent2(state_size=state_shape,action_size = action_shape,seed = 0)\n",
    "    [temp_scores,sibling_lives1[i]] = dqn()\n",
    "    sibling_scores2.append(temp_scores)\n",
    "    \n",
    "no_siblings3 = 1\n",
    "sibling_scores3 = []\n",
    "sibling_lives3 = np.zeros(no_siblings3)\n",
    "\n",
    "begin_time3 = datetime.datetime.now()\n",
    "for i in range(no_siblings3):\n",
    "    \n",
    "    agent = Agent3(state_size=state_shape,action_size = action_shape,seed = 0)\n",
    "    [temp_scores,sibling_lives3[i]] = dqn()\n",
    "    sibling_scores3.append(temp_scores)\n",
    "    \n",
    "no_siblings4 = 1\n",
    "sibling_scores4 = []\n",
    "sibling_lives4 = np.zeros(no_siblings4)\n",
    "\n",
    "begin_time4 = datetime.datetime.now()\n",
    "for i in range(no_siblings4):\n",
    "    \n",
    "    agent = Agent1(state_size=state_shape,action_size = action_shape,seed = 0)\n",
    "    [temp_scores,sibling_lives4[i]] = dqn()\n",
    "    sibling_scores4.append(temp_scores)\n",
    "    \n",
    "no_siblings5 = 1\n",
    "sibling_scores5 = []\n",
    "sibling_lives5 = np.zeros(no_siblings5)\n",
    "\n",
    "begin_time5 = datetime.datetime.now()\n",
    "for i in range(no_siblings5):\n",
    "    \n",
    "    agent = Agent5(state_size=state_shape,action_size = action_shape,seed = 0)\n",
    "    [temp_scores,sibling_lives5[i]] = dqn()\n",
    "    sibling_scores5.append(temp_scores)\n",
    "    \n",
    "no_siblings6 = 1\n",
    "sibling_scores6 = []\n",
    "sibling_lives6 = np.zeros(no_siblings6)\n",
    "\n",
    "begin_time6 = datetime.datetime.now()\n",
    "for i in range(no_siblings6):\n",
    "    \n",
    "    agent = Agent6(state_size=state_shape,action_size = action_shape,seed = 0)\n",
    "    [temp_scores,sibling_lives6[i]] = dqn()\n",
    "    sibling_scores6.append(temp_scores)\n",
    "    \n",
    "no_siblings7 = 1\n",
    "sibling_scores7 = []\n",
    "sibling_lives7 = np.zeros(no_siblings7)\n",
    "\n",
    "begin_time7 = datetime.datetime.now()\n",
    "for i in range(no_siblings7):\n",
    "    \n",
    "    agent = Agent7(state_size=state_shape,action_size = action_shape,seed = 0)\n",
    "    [temp_scores,sibling_lives7[i]] = dqn()\n",
    "    sibling_scores7.append(temp_scores)\n",
    "    \n",
    "no_siblings8 = 1\n",
    "sibling_scores8 = []\n",
    "sibling_lives8 = np.zeros(no_siblings4)\n",
    "\n",
    "begin_time4 = datetime.datetime.now()\n",
    "for i in range(no_siblings8):\n",
    "    \n",
    "    agent = Agent8(state_size=state_shape,action_size = action_shape,seed = 0)\n",
    "    [temp_scores,sibling_lives8[i]] = dqn()\n",
    "    sibling_scores8.append(temp_scores)"
   ]
  },
  {
   "cell_type": "code",
   "execution_count": 6,
   "metadata": {},
   "outputs": [
    {
     "name": "stdout",
     "output_type": "stream",
     "text": [
      "tensor([[0.3303, 0.8665, 0.1212],\n",
      "        [0.4020, 0.3005, 0.8721]])\n",
      "tensor([[0.8665],\n",
      "        [0.8721]])\n"
     ]
    }
   ],
   "source": [
    "a = torch.rand(2,3)\n",
    "print(a)\n",
    "print(a.max(1)[0].unsqueeze(1))"
   ]
  },
  {
   "cell_type": "code",
   "execution_count": 7,
   "metadata": {},
   "outputs": [],
   "source": [
    "from QNetworks import QNetwork1\n",
    "device = torch.device(\"cuda:0\" if torch.cuda.is_available() else \"cpu\")\n",
    "myNetwork = QNetwork1(3,2,0).to(device)"
   ]
  },
  {
   "cell_type": "code",
   "execution_count": 14,
   "metadata": {},
   "outputs": [
    {
     "name": "stdout",
     "output_type": "stream",
     "text": [
      "[1. 2. 3. 4. 5. 6.]\n",
      "tensor([[1., 2., 3., 4., 5., 6.]], device='cuda:0')\n"
     ]
    }
   ],
   "source": [
    "b = np.array([1.0,2.0,3.0,4.0,5.0,6.0])\n",
    "print(b)\n",
    "b = torch.from_numpy(b).float().unsqueeze(0).to(device)\n",
    "print(b)"
   ]
  },
  {
   "cell_type": "code",
   "execution_count": 9,
   "metadata": {},
   "outputs": [
    {
     "name": "stdout",
     "output_type": "stream",
     "text": [
      "tensor([[0.3096]], device='cuda:0')\n"
     ]
    }
   ],
   "source": [
    "\n",
    "print(myNetwork(b).detach().max(1)[0].unsqueeze(1))"
   ]
  },
  {
   "cell_type": "code",
   "execution_count": 17,
   "metadata": {},
   "outputs": [
    {
     "name": "stdout",
     "output_type": "stream",
     "text": [
      "[[0.59763217 0.29764736 0.02443431]\n",
      " [0.93420254 0.2968834  0.0448549 ]\n",
      " [0.80191385 0.56115691 0.75301579]\n",
      " [0.29965167 0.7396202  0.88320427]\n",
      " [0.93918335 0.48557929 0.02016853]\n",
      " [0.80376276 0.3885355  0.2136312 ]\n",
      " [0.04214878 0.47487267 0.24353678]\n",
      " [0.25737305 0.27221931 0.75448379]\n",
      " [0.10761848 0.85141035 0.22594016]\n",
      " [0.81420701 0.79866703 0.02299499]]\n"
     ]
    }
   ],
   "source": [
    "experiences1 = np.random.rand(10,3)\n",
    "print(experiences1)"
   ]
  },
  {
   "cell_type": "code",
   "execution_count": 20,
   "metadata": {},
   "outputs": [
    {
     "name": "stdout",
     "output_type": "stream",
     "text": [
      "tensor([[0.5770, 0.4560, 0.5029],\n",
      "        [0.3156, 0.6510, 0.9008],\n",
      "        [0.8389, 0.7519, 0.7526],\n",
      "        [0.8823, 0.7111, 0.1753],\n",
      "        [0.8260, 0.4738, 0.5264],\n",
      "        [0.6019, 0.1371, 0.9816],\n",
      "        [0.3569, 0.3338, 0.0744],\n",
      "        [0.9041, 0.9731, 0.0608],\n",
      "        [0.7011, 0.6813, 0.6678],\n",
      "        [0.5494, 0.6704, 0.5797]], device='cuda:0')\n",
      "tensor([[0.0397, 0.6178, 0.7907],\n",
      "        [0.7246, 0.5015, 0.3224],\n",
      "        [0.7746, 0.1702, 0.2958],\n",
      "        [0.1349, 0.7963, 0.4098],\n",
      "        [0.6295, 0.9349, 0.3768],\n",
      "        [0.4827, 0.4871, 0.4768],\n",
      "        [0.8459, 0.1922, 0.9849],\n",
      "        [0.7778, 0.1209, 0.1090],\n",
      "        [0.1273, 0.0706, 0.1182],\n",
      "        [0.5836, 0.4598, 0.2176]], device='cuda:0')\n"
     ]
    }
   ],
   "source": [
    "experiences1 = np.random.rand(10,3)\n",
    "states1 = torch.from_numpy(np.vstack([e for e in experiences1 if e is not None])).float().to(device)\n",
    "print(states1)\n",
    "\n",
    "experiences2 = np.random.rand(10,3)\n",
    "states2 = torch.from_numpy(np.vstack([e for e in experiences2 if e is not None])).float().to(device)\n",
    "print(states2)"
   ]
  },
  {
   "cell_type": "code",
   "execution_count": 15,
   "metadata": {},
   "outputs": [
    {
     "name": "stdout",
     "output_type": "stream",
     "text": [
      "[ 0.99612767 -0.08791855  0.99998543  0.00539742 -0.09194186  0.09558882]\n"
     ]
    }
   ],
   "source": [
    "print(env.reset())"
   ]
  },
  {
   "cell_type": "code",
   "execution_count": 26,
   "metadata": {},
   "outputs": [
    {
     "name": "stdout",
     "output_type": "stream",
     "text": [
      "tensor([[0.1065],\n",
      "        [0.1336],\n",
      "        [0.1261],\n",
      "        [0.0946],\n",
      "        [0.1027],\n",
      "        [0.1209],\n",
      "        [0.0700],\n",
      "        [0.1024],\n",
      "        [0.1209],\n",
      "        [0.1184]], device='cuda:0')\n",
      "tensor([[0.1220],\n",
      "        [0.0977],\n",
      "        [0.0751],\n",
      "        [0.1146],\n",
      "        [0.1154],\n",
      "        [0.1082],\n",
      "        [0.1085],\n",
      "        [0.0573],\n",
      "        [0.0663],\n",
      "        [0.0904]], device='cuda:0')\n"
     ]
    }
   ],
   "source": [
    "print(myNetwork(states1).detach().max(1)[0].unsqueeze(1))\n",
    "tempstates1 = myNetwork(states1).detach().max(1)[0].unsqueeze(1)\n",
    "print(myNetwork(states2).detach().max(1)[0].unsqueeze(1))\n",
    "tempstates2 = myNetwork(states2).detach().max(1)[0].unsqueeze(1)"
   ]
  },
  {
   "cell_type": "code",
   "execution_count": 27,
   "metadata": {},
   "outputs": [
    {
     "name": "stdout",
     "output_type": "stream",
     "text": [
      "tensor(0.0012, device='cuda:0')\n"
     ]
    }
   ],
   "source": [
    "loss = F.mse_loss(tempstates1, tempstates2)\n",
    "print(loss)"
   ]
  },
  {
   "cell_type": "code",
   "execution_count": 30,
   "metadata": {},
   "outputs": [],
   "source": [
    "import torch.optim as optim  \n",
    "optimizer = optim.Adam(myNetwork.parameters(), lr=0.005)\n"
   ]
  },
  {
   "cell_type": "code",
   "execution_count": 31,
   "metadata": {},
   "outputs": [
    {
     "name": "stdout",
     "output_type": "stream",
     "text": [
      "None\n"
     ]
    },
    {
     "ename": "RuntimeError",
     "evalue": "element 0 of tensors does not require grad and does not have a grad_fn",
     "output_type": "error",
     "traceback": [
      "\u001b[0;31m---------------------------------------------------------------------------\u001b[0m",
      "\u001b[0;31mRuntimeError\u001b[0m                              Traceback (most recent call last)",
      "\u001b[0;32m<ipython-input-31-7572ac5c61f3>\u001b[0m in \u001b[0;36m<module>\u001b[0;34m\u001b[0m\n\u001b[1;32m      1\u001b[0m \u001b[0moptimizer\u001b[0m\u001b[0;34m.\u001b[0m\u001b[0mzero_grad\u001b[0m\u001b[0;34m(\u001b[0m\u001b[0;34m)\u001b[0m\u001b[0;34m\u001b[0m\u001b[0;34m\u001b[0m\u001b[0m\n\u001b[1;32m      2\u001b[0m \u001b[0mprint\u001b[0m\u001b[0;34m(\u001b[0m\u001b[0moptimizer\u001b[0m\u001b[0;34m.\u001b[0m\u001b[0mzero_grad\u001b[0m\u001b[0;34m(\u001b[0m\u001b[0;34m)\u001b[0m\u001b[0;34m)\u001b[0m\u001b[0;34m\u001b[0m\u001b[0;34m\u001b[0m\u001b[0m\n\u001b[0;32m----> 3\u001b[0;31m \u001b[0mloss\u001b[0m\u001b[0;34m.\u001b[0m\u001b[0mbackward\u001b[0m\u001b[0;34m(\u001b[0m\u001b[0;34m)\u001b[0m\u001b[0;34m\u001b[0m\u001b[0;34m\u001b[0m\u001b[0m\n\u001b[0m\u001b[1;32m      4\u001b[0m \u001b[0mprint\u001b[0m\u001b[0;34m(\u001b[0m\u001b[0mloss\u001b[0m\u001b[0;34m.\u001b[0m\u001b[0mbackward\u001b[0m\u001b[0;34m(\u001b[0m\u001b[0;34m)\u001b[0m\u001b[0;34m)\u001b[0m\u001b[0;34m\u001b[0m\u001b[0;34m\u001b[0m\u001b[0m\n",
      "\u001b[0;32m~/anaconda3/envs/rl/lib/python3.8/site-packages/torch/_tensor.py\u001b[0m in \u001b[0;36mbackward\u001b[0;34m(self, gradient, retain_graph, create_graph, inputs)\u001b[0m\n\u001b[1;32m    253\u001b[0m                 \u001b[0mcreate_graph\u001b[0m\u001b[0;34m=\u001b[0m\u001b[0mcreate_graph\u001b[0m\u001b[0;34m,\u001b[0m\u001b[0;34m\u001b[0m\u001b[0;34m\u001b[0m\u001b[0m\n\u001b[1;32m    254\u001b[0m                 inputs=inputs)\n\u001b[0;32m--> 255\u001b[0;31m         \u001b[0mtorch\u001b[0m\u001b[0;34m.\u001b[0m\u001b[0mautograd\u001b[0m\u001b[0;34m.\u001b[0m\u001b[0mbackward\u001b[0m\u001b[0;34m(\u001b[0m\u001b[0mself\u001b[0m\u001b[0;34m,\u001b[0m \u001b[0mgradient\u001b[0m\u001b[0;34m,\u001b[0m \u001b[0mretain_graph\u001b[0m\u001b[0;34m,\u001b[0m \u001b[0mcreate_graph\u001b[0m\u001b[0;34m,\u001b[0m \u001b[0minputs\u001b[0m\u001b[0;34m=\u001b[0m\u001b[0minputs\u001b[0m\u001b[0;34m)\u001b[0m\u001b[0;34m\u001b[0m\u001b[0;34m\u001b[0m\u001b[0m\n\u001b[0m\u001b[1;32m    256\u001b[0m \u001b[0;34m\u001b[0m\u001b[0m\n\u001b[1;32m    257\u001b[0m     \u001b[0;32mdef\u001b[0m \u001b[0mregister_hook\u001b[0m\u001b[0;34m(\u001b[0m\u001b[0mself\u001b[0m\u001b[0;34m,\u001b[0m \u001b[0mhook\u001b[0m\u001b[0;34m)\u001b[0m\u001b[0;34m:\u001b[0m\u001b[0;34m\u001b[0m\u001b[0;34m\u001b[0m\u001b[0m\n",
      "\u001b[0;32m~/anaconda3/envs/rl/lib/python3.8/site-packages/torch/autograd/__init__.py\u001b[0m in \u001b[0;36mbackward\u001b[0;34m(tensors, grad_tensors, retain_graph, create_graph, grad_variables, inputs)\u001b[0m\n\u001b[1;32m    145\u001b[0m         \u001b[0mretain_graph\u001b[0m \u001b[0;34m=\u001b[0m \u001b[0mcreate_graph\u001b[0m\u001b[0;34m\u001b[0m\u001b[0;34m\u001b[0m\u001b[0m\n\u001b[1;32m    146\u001b[0m \u001b[0;34m\u001b[0m\u001b[0m\n\u001b[0;32m--> 147\u001b[0;31m     Variable._execution_engine.run_backward(\n\u001b[0m\u001b[1;32m    148\u001b[0m         \u001b[0mtensors\u001b[0m\u001b[0;34m,\u001b[0m \u001b[0mgrad_tensors_\u001b[0m\u001b[0;34m,\u001b[0m \u001b[0mretain_graph\u001b[0m\u001b[0;34m,\u001b[0m \u001b[0mcreate_graph\u001b[0m\u001b[0;34m,\u001b[0m \u001b[0minputs\u001b[0m\u001b[0;34m,\u001b[0m\u001b[0;34m\u001b[0m\u001b[0;34m\u001b[0m\u001b[0m\n\u001b[1;32m    149\u001b[0m         allow_unreachable=True, accumulate_grad=True)  # allow_unreachable flag\n",
      "\u001b[0;31mRuntimeError\u001b[0m: element 0 of tensors does not require grad and does not have a grad_fn"
     ]
    }
   ],
   "source": [
    "optimizer.zero_grad()\n",
    "print(optimizer.zero_grad())\n",
    "loss.backward()\n",
    "print(loss.backward())"
   ]
  },
  {
   "cell_type": "code",
   "execution_count": null,
   "metadata": {},
   "outputs": [],
   "source": [
    "a = 2.45\n",
    "print(a)\n",
    "print(type(a))\n",
    "b = torch.Tensor(np.array(a))"
   ]
  },
  {
   "cell_type": "code",
   "execution_count": null,
   "metadata": {},
   "outputs": [],
   "source": [
    "a = True\n",
    "print(np.vstack([a]))"
   ]
  },
  {
   "cell_type": "code",
   "execution_count": null,
   "metadata": {},
   "outputs": [],
   "source": []
  }
 ],
 "metadata": {
  "kernelspec": {
   "display_name": "rl",
   "language": "python",
   "name": "rl"
  },
  "language_info": {
   "codemirror_mode": {
    "name": "ipython",
    "version": 3
   },
   "file_extension": ".py",
   "mimetype": "text/x-python",
   "name": "python",
   "nbconvert_exporter": "python",
   "pygments_lexer": "ipython3",
   "version": "3.8.5"
  }
 },
 "nbformat": 4,
 "nbformat_minor": 4
}
