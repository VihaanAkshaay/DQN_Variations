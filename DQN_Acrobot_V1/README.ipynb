{
 "cells": [
  {
   "cell_type": "markdown",
   "metadata": {},
   "source": [
    "# README\n"
   ]
  },
  {
   "cell_type": "markdown",
   "metadata": {},
   "source": [
    "## Possible Variations in the DQN algorithm\n",
    "\n",
    "###  Part 1 - Neural Network\n",
    "\n",
    "##### Network Achitecture\n",
    "QNetwork1 \\\n",
    "QNetwork2 \\\n",
    "\n",
    "##### Learning Rate\n",
    "Different Learning Rate \\\n",
    "\n",
    "### Part 2 - Q Learning\n",
    "Varying discount rate (gamma)\n",
    "\n",
    "### Part 3 - DQN_Features\n",
    "Q-Targets (Y/N)\n",
    "Experience Replmay (Y/N)\n",
    "Truncation (Y/N)\n",
    "\n"
   ]
  },
  {
   "cell_type": "code",
   "execution_count": null,
   "metadata": {},
   "outputs": [],
   "source": []
  }
 ],
 "metadata": {
  "kernelspec": {
   "display_name": "rl",
   "language": "python",
   "name": "rl"
  },
  "language_info": {
   "codemirror_mode": {
    "name": "ipython",
    "version": 3
   },
   "file_extension": ".py",
   "mimetype": "text/x-python",
   "name": "python",
   "nbconvert_exporter": "python",
   "pygments_lexer": "ipython3",
   "version": "3.8.5"
  }
 },
 "nbformat": 4,
 "nbformat_minor": 4
}
