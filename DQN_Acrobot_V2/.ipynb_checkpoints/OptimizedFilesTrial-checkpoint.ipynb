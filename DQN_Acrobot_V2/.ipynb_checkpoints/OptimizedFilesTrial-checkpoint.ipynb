{
 "cells": [
  {
   "cell_type": "code",
   "execution_count": 1,
   "metadata": {},
   "outputs": [],
   "source": [
    "%load_ext autoreload\n",
    "%autoreload 2\n",
    "\n",
    "import gym\n",
    "import numpy as np\n",
    "import random\n",
    "from collections import namedtuple, deque\n",
    "\n",
    "\n",
    "\n",
    "import torch\n",
    "import torch.nn as nn\n",
    "import torch.nn.functional as F\n",
    "import torch.optim as optim\n",
    "\n",
    "import datetime\n",
    "import matplotlib.pyplot as plt\n",
    "%matplotlib inline"
   ]
  },
  {
   "cell_type": "code",
   "execution_count": 2,
   "metadata": {},
   "outputs": [],
   "source": [
    "from QNetworks import QNetwork1\n",
    "from ReplayBuffer import ReplayBuffer\n",
    "from Agents import *\n",
    "from DQN_Algorithms import dqn_acrobot"
   ]
  },
  {
   "cell_type": "code",
   "execution_count": 3,
   "metadata": {},
   "outputs": [
    {
     "name": "stdout",
     "output_type": "stream",
     "text": [
      "State shape:  6\n",
      "Action shape:  3\n"
     ]
    }
   ],
   "source": [
    "env = gym.make('Acrobot-v1')\n",
    "env.seed(0)\n",
    "\n",
    "state_shape = env.observation_space.shape[0]\n",
    "action_shape = env.action_space.n\n",
    "\n",
    "print('State shape: ', state_shape)\n",
    "print('Action shape: ', action_shape)"
   ]
  },
  {
   "cell_type": "code",
   "execution_count": 4,
   "metadata": {},
   "outputs": [],
   "source": [
    "def dqn(n_episodes=10000, max_t=1000, eps_start=1.0, eps_end=0.01, eps_decay=0.995):\n",
    "    \"\"\"Deep Q-Learning.\n",
    "    \n",
    "    Params\n",
    "    ======\n",
    "        n_episodes (int): maximum number of training episodes\n",
    "        max_t (int): maximum number of timesteps per episode\n",
    "        eps_start (float): starting value of epsilon, for epsilon-greedy action selection\n",
    "        eps_end (float): minimum value of epsilon\n",
    "        eps_decay (float): multiplicative factor (per episode) for decreasing epsilon\n",
    "    \"\"\"\n",
    "    scores = []                 # list containing scores from each episode\n",
    "    scores_window_printing = deque(maxlen=10) # For printing in the graph\n",
    "    scores_window= deque(maxlen=100)  # last 100 scores for checking if the avg is more than 195\n",
    "    eps = eps_start                    # initialize epsilon\n",
    "    for i_episode in range(1, n_episodes+1):\n",
    "        state = env.reset()\n",
    "        score = 0\n",
    "        for t in range(max_t):\n",
    "            action = agent.act(state, eps)\n",
    "            next_state, reward, done, _ = env.step(action)\n",
    "            agent.step(state, action, reward, next_state, done)\n",
    "            state = next_state\n",
    "            score += reward\n",
    "            if done:\n",
    "                break \n",
    "        scores_window.append(score)       # save most recent score\n",
    "        scores_window_printing.append(score)              # save most recent score\n",
    "        eps = max(eps_end, eps_decay*eps) # decrease epsilon\n",
    "        print('\\rEpisode {}\\tAverage Score: {:.2f}'.format(i_episode, np.mean(scores_window)), end=\"\")  \n",
    "        if i_episode % 10 == 0: \n",
    "            scores.append(np.mean(scores_window_printing))        \n",
    "        if i_episode % 100 == 0: \n",
    "            print('\\rEpisode {}\\tAverage Score: {:.2f}'.format(i_episode, np.mean(scores_window)))\n",
    "        if np.mean(scores_window)>=-80.0:\n",
    "            print('\\nEnvironment solved in {:d} episodes!\\tAverage Score: {:.2f}'.format(i_episode-100, np.mean(scores_window)))\n",
    "            break\n",
    "    return [np.array(scores),i_episode-100]"
   ]
  },
  {
   "cell_type": "code",
   "execution_count": null,
   "metadata": {},
   "outputs": [
    {
     "name": "stdout",
     "output_type": "stream",
     "text": [
      "Episode 100\tAverage Score: -401.22\n",
      "Episode 200\tAverage Score: -186.23\n",
      "Episode 300\tAverage Score: -142.63\n",
      "Episode 400\tAverage Score: -118.48\n",
      "Episode 500\tAverage Score: -114.34\n",
      "Episode 600\tAverage Score: -108.98\n",
      "Episode 700\tAverage Score: -105.04\n",
      "Episode 800\tAverage Score: -104.44\n",
      "Episode 900\tAverage Score: -100.58\n",
      "Episode 1000\tAverage Score: -99.21\n",
      "Episode 1100\tAverage Score: -105.10\n",
      "Episode 1200\tAverage Score: -100.83\n",
      "Episode 1300\tAverage Score: -100.25\n",
      "Episode 1400\tAverage Score: -96.062\n",
      "Episode 1500\tAverage Score: -97.40\n",
      "Episode 1600\tAverage Score: -96.79\n",
      "Episode 1700\tAverage Score: -93.69\n",
      "Episode 1800\tAverage Score: -93.75\n",
      "Episode 1900\tAverage Score: -102.57\n",
      "Episode 2000\tAverage Score: -103.95\n",
      "Episode 2100\tAverage Score: -96.488\n",
      "Episode 2200\tAverage Score: -95.09\n",
      "Episode 2300\tAverage Score: -95.23\n",
      "Episode 2400\tAverage Score: -91.73\n",
      "Episode 2500\tAverage Score: -95.66\n",
      "Episode 2600\tAverage Score: -91.61\n",
      "Episode 2700\tAverage Score: -94.57\n",
      "Episode 2800\tAverage Score: -90.26\n",
      "Episode 2900\tAverage Score: -91.01\n",
      "Episode 3000\tAverage Score: -88.24\n",
      "Episode 3100\tAverage Score: -94.69\n",
      "Episode 3200\tAverage Score: -99.335\n",
      "Episode 3300\tAverage Score: -95.11\n",
      "Episode 3400\tAverage Score: -98.20\n",
      "Episode 3500\tAverage Score: -97.03\n",
      "Episode 3600\tAverage Score: -109.35\n",
      "Episode 3700\tAverage Score: -115.64\n",
      "Episode 3800\tAverage Score: -102.59\n",
      "Episode 3900\tAverage Score: -97.926\n",
      "Episode 4000\tAverage Score: -99.672\n",
      "Episode 4100\tAverage Score: -97.386\n",
      "Episode 4200\tAverage Score: -105.66\n",
      "Episode 4300\tAverage Score: -106.42\n",
      "Episode 4400\tAverage Score: -97.960\n",
      "Episode 4500\tAverage Score: -94.92\n",
      "Episode 4600\tAverage Score: -99.587\n",
      "Episode 4700\tAverage Score: -96.496\n",
      "Episode 4800\tAverage Score: -100.15\n",
      "Episode 4900\tAverage Score: -93.480\n",
      "Episode 5000\tAverage Score: -92.57\n",
      "Episode 5100\tAverage Score: -89.80\n",
      "Episode 5200\tAverage Score: -95.32\n",
      "Episode 5300\tAverage Score: -95.10\n",
      "Episode 5400\tAverage Score: -95.34\n",
      "Episode 5500\tAverage Score: -93.32\n",
      "Episode 5600\tAverage Score: -96.51\n",
      "Episode 5700\tAverage Score: -94.35\n",
      "Episode 5800\tAverage Score: -87.62\n",
      "Episode 5900\tAverage Score: -90.03\n",
      "Episode 6000\tAverage Score: -94.02\n",
      "Episode 6100\tAverage Score: -96.41\n",
      "Episode 6200\tAverage Score: -98.369\n",
      "Episode 6300\tAverage Score: -93.74\n",
      "Episode 6400\tAverage Score: -98.18\n",
      "Episode 6500\tAverage Score: -101.62\n",
      "Episode 6600\tAverage Score: -98.175\n",
      "Episode 6700\tAverage Score: -100.43\n",
      "Episode 6800\tAverage Score: -96.423\n",
      "Episode 6900\tAverage Score: -95.21\n",
      "Episode 7000\tAverage Score: -97.62\n",
      "Episode 7100\tAverage Score: -100.45\n",
      "Episode 7200\tAverage Score: -100.25\n",
      "Episode 7300\tAverage Score: -98.421\n",
      "Episode 7400\tAverage Score: -110.77\n",
      "Episode 7500\tAverage Score: -106.54\n",
      "Episode 7600\tAverage Score: -103.94\n",
      "Episode 7700\tAverage Score: -106.99\n",
      "Episode 7800\tAverage Score: -103.42\n",
      "Episode 7900\tAverage Score: -96.636\n",
      "Episode 8000\tAverage Score: -99.772\n",
      "Episode 8100\tAverage Score: -96.838\n",
      "Episode 8200\tAverage Score: -88.75\n",
      "Episode 8300\tAverage Score: -90.58\n",
      "Episode 8400\tAverage Score: -93.10\n",
      "Episode 8500\tAverage Score: -94.75\n",
      "Episode 8600\tAverage Score: -91.57\n",
      "Episode 8700\tAverage Score: -86.67\n",
      "Episode 8800\tAverage Score: -92.19\n",
      "Episode 8900\tAverage Score: -88.71\n",
      "Episode 9000\tAverage Score: -88.38\n",
      "Episode 9100\tAverage Score: -90.88\n",
      "Episode 9200\tAverage Score: -87.17\n",
      "Episode 9300\tAverage Score: -85.77\n",
      "Episode 9400\tAverage Score: -86.73\n",
      "Episode 9500\tAverage Score: -93.65\n",
      "Episode 9600\tAverage Score: -90.06\n",
      "Episode 9700\tAverage Score: -93.56\n",
      "Episode 9800\tAverage Score: -98.09\n",
      "Episode 9900\tAverage Score: -100.40\n",
      "Episode 10000\tAverage Score: -92.79\n",
      "Episode 100\tAverage Score: -372.16\n",
      "Episode 200\tAverage Score: -171.22\n",
      "Episode 300\tAverage Score: -126.75\n",
      "Episode 400\tAverage Score: -109.60\n",
      "Episode 500\tAverage Score: -111.62\n",
      "Episode 600\tAverage Score: -105.74\n",
      "Episode 700\tAverage Score: -98.861\n",
      "Episode 800\tAverage Score: -104.23\n",
      "Episode 900\tAverage Score: -100.80\n",
      "Episode 1000\tAverage Score: -103.93\n",
      "Episode 1100\tAverage Score: -96.624\n",
      "Episode 1200\tAverage Score: -100.84\n",
      "Episode 1300\tAverage Score: -98.343\n",
      "Episode 1400\tAverage Score: -90.96\n",
      "Episode 1500\tAverage Score: -96.09\n",
      "Episode 1600\tAverage Score: -99.349\n",
      "Episode 1700\tAverage Score: -94.46\n",
      "Episode 1800\tAverage Score: -90.16\n",
      "Episode 1900\tAverage Score: -94.25\n",
      "Episode 2000\tAverage Score: -88.07\n",
      "Episode 2100\tAverage Score: -96.65\n",
      "Episode 2200\tAverage Score: -92.996\n",
      "Episode 2300\tAverage Score: -90.00\n",
      "Episode 2400\tAverage Score: -90.69\n",
      "Episode 2500\tAverage Score: -92.17\n",
      "Episode 2600\tAverage Score: -90.83\n",
      "Episode 2700\tAverage Score: -93.03\n",
      "Episode 2800\tAverage Score: -90.06\n",
      "Episode 2900\tAverage Score: -91.66\n",
      "Episode 3000\tAverage Score: -89.71\n",
      "Episode 3100\tAverage Score: -88.62\n",
      "Episode 3200\tAverage Score: -89.92\n",
      "Episode 3300\tAverage Score: -86.91\n",
      "Episode 3400\tAverage Score: -91.74\n",
      "Episode 3500\tAverage Score: -87.02\n",
      "Episode 3600\tAverage Score: -90.52\n",
      "Episode 3700\tAverage Score: -88.55\n",
      "Episode 3800\tAverage Score: -91.39\n",
      "Episode 3900\tAverage Score: -88.72\n",
      "Episode 4000\tAverage Score: -86.69\n",
      "Episode 4100\tAverage Score: -82.60\n",
      "Episode 4200\tAverage Score: -84.93\n",
      "Episode 4300\tAverage Score: -83.29\n",
      "Episode 4400\tAverage Score: -82.29\n",
      "Episode 4500\tAverage Score: -84.30\n",
      "Episode 4600\tAverage Score: -84.95\n",
      "Episode 4700\tAverage Score: -79.93\n",
      "\n",
      "Environment solved in 4600 episodes!\tAverage Score: -79.93\n",
      "Episode 100\tAverage Score: -484.15\n",
      "Episode 200\tAverage Score: -494.96\n",
      "Episode 300\tAverage Score: -500.00\n",
      "Episode 400\tAverage Score: -500.00\n",
      "Episode 500\tAverage Score: -454.00\n",
      "Episode 600\tAverage Score: -497.24\n",
      "Episode 700\tAverage Score: -485.69\n",
      "Episode 800\tAverage Score: -499.45\n",
      "Episode 900\tAverage Score: -500.00\n",
      "Episode 967\tAverage Score: -470.45"
     ]
    }
   ],
   "source": [
    "\n",
    "    \n",
    "no_siblings5 = 1\n",
    "sibling_scores5 = []\n",
    "sibling_lives5 = np.zeros(no_siblings5)\n",
    "\n",
    "begin_time5 = datetime.datetime.now()\n",
    "for i in range(no_siblings5):\n",
    "    \n",
    "    agent = Agent5(state_size=state_shape,action_size = action_shape,seed = 0)\n",
    "    [temp_scores,sibling_lives5[i]] = dqn()\n",
    "    sibling_scores5.append(temp_scores)\n",
    "    \n",
    "no_siblings6 = 1\n",
    "sibling_scores6 = []\n",
    "sibling_lives6 = np.zeros(no_siblings6)\n",
    "\n",
    "begin_time6 = datetime.datetime.now()\n",
    "for i in range(no_siblings6):\n",
    "    \n",
    "    agent = Agent6(state_size=state_shape,action_size = action_shape,seed = 0)\n",
    "    [temp_scores,sibling_lives6[i]] = dqn()\n",
    "    sibling_scores6.append(temp_scores)\n",
    "    \n",
    "no_siblings7 = 1\n",
    "sibling_scores7 = []\n",
    "sibling_lives7 = np.zeros(no_siblings7)\n",
    "\n",
    "begin_time7 = datetime.datetime.now()\n",
    "for i in range(no_siblings7):\n",
    "    \n",
    "    agent = Agent7(state_size=state_shape,action_size = action_shape,seed = 0)\n",
    "    [temp_scores,sibling_lives7[i]] = dqn()\n",
    "    sibling_scores7.append(temp_scores)\n",
    "    \n",
    "no_siblings8 = 1\n",
    "sibling_scores8 = []\n",
    "sibling_lives8 = np.zeros(no_siblings4)\n",
    "\n",
    "begin_time4 = datetime.datetime.now()\n",
    "for i in range(no_siblings8):\n",
    "    \n",
    "    agent = Agent8(state_size=state_shape,action_size = action_shape,seed = 0)\n",
    "    [temp_scores,sibling_lives8[i]] = dqn()\n",
    "    sibling_scores8.append(temp_scores)"
   ]
  },
  {
   "cell_type": "code",
   "execution_count": 6,
   "metadata": {},
   "outputs": [
    {
     "name": "stdout",
     "output_type": "stream",
     "text": [
      "tensor([[0.3303, 0.8665, 0.1212],\n",
      "        [0.4020, 0.3005, 0.8721]])\n",
      "tensor([[0.8665],\n",
      "        [0.8721]])\n"
     ]
    }
   ],
   "source": [
    "a = torch.rand(2,3)\n",
    "print(a)\n",
    "print(a.max(1)[0].unsqueeze(1))"
   ]
  },
  {
   "cell_type": "code",
   "execution_count": 7,
   "metadata": {},
   "outputs": [],
   "source": [
    "from QNetworks import QNetwork1\n",
    "device = torch.device(\"cuda:0\" if torch.cuda.is_available() else \"cpu\")\n",
    "myNetwork = QNetwork1(3,2,0).to(device)"
   ]
  },
  {
   "cell_type": "code",
   "execution_count": 14,
   "metadata": {},
   "outputs": [
    {
     "name": "stdout",
     "output_type": "stream",
     "text": [
      "[1. 2. 3. 4. 5. 6.]\n",
      "tensor([[1., 2., 3., 4., 5., 6.]], device='cuda:0')\n"
     ]
    }
   ],
   "source": [
    "b = np.array([1.0,2.0,3.0,4.0,5.0,6.0])\n",
    "print(b)\n",
    "b = torch.from_numpy(b).float().unsqueeze(0).to(device)\n",
    "print(b)"
   ]
  },
  {
   "cell_type": "code",
   "execution_count": 9,
   "metadata": {},
   "outputs": [
    {
     "name": "stdout",
     "output_type": "stream",
     "text": [
      "tensor([[0.3096]], device='cuda:0')\n"
     ]
    }
   ],
   "source": [
    "\n",
    "print(myNetwork(b).detach().max(1)[0].unsqueeze(1))"
   ]
  },
  {
   "cell_type": "code",
   "execution_count": 17,
   "metadata": {},
   "outputs": [
    {
     "name": "stdout",
     "output_type": "stream",
     "text": [
      "[[0.59763217 0.29764736 0.02443431]\n",
      " [0.93420254 0.2968834  0.0448549 ]\n",
      " [0.80191385 0.56115691 0.75301579]\n",
      " [0.29965167 0.7396202  0.88320427]\n",
      " [0.93918335 0.48557929 0.02016853]\n",
      " [0.80376276 0.3885355  0.2136312 ]\n",
      " [0.04214878 0.47487267 0.24353678]\n",
      " [0.25737305 0.27221931 0.75448379]\n",
      " [0.10761848 0.85141035 0.22594016]\n",
      " [0.81420701 0.79866703 0.02299499]]\n"
     ]
    }
   ],
   "source": [
    "experiences1 = np.random.rand(10,3)\n",
    "print(experiences1)"
   ]
  },
  {
   "cell_type": "code",
   "execution_count": 20,
   "metadata": {},
   "outputs": [
    {
     "name": "stdout",
     "output_type": "stream",
     "text": [
      "tensor([[0.5770, 0.4560, 0.5029],\n",
      "        [0.3156, 0.6510, 0.9008],\n",
      "        [0.8389, 0.7519, 0.7526],\n",
      "        [0.8823, 0.7111, 0.1753],\n",
      "        [0.8260, 0.4738, 0.5264],\n",
      "        [0.6019, 0.1371, 0.9816],\n",
      "        [0.3569, 0.3338, 0.0744],\n",
      "        [0.9041, 0.9731, 0.0608],\n",
      "        [0.7011, 0.6813, 0.6678],\n",
      "        [0.5494, 0.6704, 0.5797]], device='cuda:0')\n",
      "tensor([[0.0397, 0.6178, 0.7907],\n",
      "        [0.7246, 0.5015, 0.3224],\n",
      "        [0.7746, 0.1702, 0.2958],\n",
      "        [0.1349, 0.7963, 0.4098],\n",
      "        [0.6295, 0.9349, 0.3768],\n",
      "        [0.4827, 0.4871, 0.4768],\n",
      "        [0.8459, 0.1922, 0.9849],\n",
      "        [0.7778, 0.1209, 0.1090],\n",
      "        [0.1273, 0.0706, 0.1182],\n",
      "        [0.5836, 0.4598, 0.2176]], device='cuda:0')\n"
     ]
    }
   ],
   "source": [
    "experiences1 = np.random.rand(10,3)\n",
    "states1 = torch.from_numpy(np.vstack([e for e in experiences1 if e is not None])).float().to(device)\n",
    "print(states1)\n",
    "\n",
    "experiences2 = np.random.rand(10,3)\n",
    "states2 = torch.from_numpy(np.vstack([e for e in experiences2 if e is not None])).float().to(device)\n",
    "print(states2)"
   ]
  },
  {
   "cell_type": "code",
   "execution_count": 15,
   "metadata": {},
   "outputs": [
    {
     "name": "stdout",
     "output_type": "stream",
     "text": [
      "[ 0.99612767 -0.08791855  0.99998543  0.00539742 -0.09194186  0.09558882]\n"
     ]
    }
   ],
   "source": [
    "print(env.reset())"
   ]
  },
  {
   "cell_type": "code",
   "execution_count": 26,
   "metadata": {},
   "outputs": [
    {
     "name": "stdout",
     "output_type": "stream",
     "text": [
      "tensor([[0.1065],\n",
      "        [0.1336],\n",
      "        [0.1261],\n",
      "        [0.0946],\n",
      "        [0.1027],\n",
      "        [0.1209],\n",
      "        [0.0700],\n",
      "        [0.1024],\n",
      "        [0.1209],\n",
      "        [0.1184]], device='cuda:0')\n",
      "tensor([[0.1220],\n",
      "        [0.0977],\n",
      "        [0.0751],\n",
      "        [0.1146],\n",
      "        [0.1154],\n",
      "        [0.1082],\n",
      "        [0.1085],\n",
      "        [0.0573],\n",
      "        [0.0663],\n",
      "        [0.0904]], device='cuda:0')\n"
     ]
    }
   ],
   "source": [
    "print(myNetwork(states1).detach().max(1)[0].unsqueeze(1))\n",
    "tempstates1 = myNetwork(states1).detach().max(1)[0].unsqueeze(1)\n",
    "print(myNetwork(states2).detach().max(1)[0].unsqueeze(1))\n",
    "tempstates2 = myNetwork(states2).detach().max(1)[0].unsqueeze(1)"
   ]
  },
  {
   "cell_type": "code",
   "execution_count": 27,
   "metadata": {},
   "outputs": [
    {
     "name": "stdout",
     "output_type": "stream",
     "text": [
      "tensor(0.0012, device='cuda:0')\n"
     ]
    }
   ],
   "source": [
    "loss = F.mse_loss(tempstates1, tempstates2)\n",
    "print(loss)"
   ]
  },
  {
   "cell_type": "code",
   "execution_count": 30,
   "metadata": {},
   "outputs": [],
   "source": [
    "import torch.optim as optim  \n",
    "optimizer = optim.Adam(myNetwork.parameters(), lr=0.005)\n"
   ]
  },
  {
   "cell_type": "code",
   "execution_count": 31,
   "metadata": {},
   "outputs": [
    {
     "name": "stdout",
     "output_type": "stream",
     "text": [
      "None\n"
     ]
    },
    {
     "ename": "RuntimeError",
     "evalue": "element 0 of tensors does not require grad and does not have a grad_fn",
     "output_type": "error",
     "traceback": [
      "\u001b[0;31m---------------------------------------------------------------------------\u001b[0m",
      "\u001b[0;31mRuntimeError\u001b[0m                              Traceback (most recent call last)",
      "\u001b[0;32m<ipython-input-31-7572ac5c61f3>\u001b[0m in \u001b[0;36m<module>\u001b[0;34m\u001b[0m\n\u001b[1;32m      1\u001b[0m \u001b[0moptimizer\u001b[0m\u001b[0;34m.\u001b[0m\u001b[0mzero_grad\u001b[0m\u001b[0;34m(\u001b[0m\u001b[0;34m)\u001b[0m\u001b[0;34m\u001b[0m\u001b[0;34m\u001b[0m\u001b[0m\n\u001b[1;32m      2\u001b[0m \u001b[0mprint\u001b[0m\u001b[0;34m(\u001b[0m\u001b[0moptimizer\u001b[0m\u001b[0;34m.\u001b[0m\u001b[0mzero_grad\u001b[0m\u001b[0;34m(\u001b[0m\u001b[0;34m)\u001b[0m\u001b[0;34m)\u001b[0m\u001b[0;34m\u001b[0m\u001b[0;34m\u001b[0m\u001b[0m\n\u001b[0;32m----> 3\u001b[0;31m \u001b[0mloss\u001b[0m\u001b[0;34m.\u001b[0m\u001b[0mbackward\u001b[0m\u001b[0;34m(\u001b[0m\u001b[0;34m)\u001b[0m\u001b[0;34m\u001b[0m\u001b[0;34m\u001b[0m\u001b[0m\n\u001b[0m\u001b[1;32m      4\u001b[0m \u001b[0mprint\u001b[0m\u001b[0;34m(\u001b[0m\u001b[0mloss\u001b[0m\u001b[0;34m.\u001b[0m\u001b[0mbackward\u001b[0m\u001b[0;34m(\u001b[0m\u001b[0;34m)\u001b[0m\u001b[0;34m)\u001b[0m\u001b[0;34m\u001b[0m\u001b[0;34m\u001b[0m\u001b[0m\n",
      "\u001b[0;32m~/anaconda3/envs/rl/lib/python3.8/site-packages/torch/_tensor.py\u001b[0m in \u001b[0;36mbackward\u001b[0;34m(self, gradient, retain_graph, create_graph, inputs)\u001b[0m\n\u001b[1;32m    253\u001b[0m                 \u001b[0mcreate_graph\u001b[0m\u001b[0;34m=\u001b[0m\u001b[0mcreate_graph\u001b[0m\u001b[0;34m,\u001b[0m\u001b[0;34m\u001b[0m\u001b[0;34m\u001b[0m\u001b[0m\n\u001b[1;32m    254\u001b[0m                 inputs=inputs)\n\u001b[0;32m--> 255\u001b[0;31m         \u001b[0mtorch\u001b[0m\u001b[0;34m.\u001b[0m\u001b[0mautograd\u001b[0m\u001b[0;34m.\u001b[0m\u001b[0mbackward\u001b[0m\u001b[0;34m(\u001b[0m\u001b[0mself\u001b[0m\u001b[0;34m,\u001b[0m \u001b[0mgradient\u001b[0m\u001b[0;34m,\u001b[0m \u001b[0mretain_graph\u001b[0m\u001b[0;34m,\u001b[0m \u001b[0mcreate_graph\u001b[0m\u001b[0;34m,\u001b[0m \u001b[0minputs\u001b[0m\u001b[0;34m=\u001b[0m\u001b[0minputs\u001b[0m\u001b[0;34m)\u001b[0m\u001b[0;34m\u001b[0m\u001b[0;34m\u001b[0m\u001b[0m\n\u001b[0m\u001b[1;32m    256\u001b[0m \u001b[0;34m\u001b[0m\u001b[0m\n\u001b[1;32m    257\u001b[0m     \u001b[0;32mdef\u001b[0m \u001b[0mregister_hook\u001b[0m\u001b[0;34m(\u001b[0m\u001b[0mself\u001b[0m\u001b[0;34m,\u001b[0m \u001b[0mhook\u001b[0m\u001b[0;34m)\u001b[0m\u001b[0;34m:\u001b[0m\u001b[0;34m\u001b[0m\u001b[0;34m\u001b[0m\u001b[0m\n",
      "\u001b[0;32m~/anaconda3/envs/rl/lib/python3.8/site-packages/torch/autograd/__init__.py\u001b[0m in \u001b[0;36mbackward\u001b[0;34m(tensors, grad_tensors, retain_graph, create_graph, grad_variables, inputs)\u001b[0m\n\u001b[1;32m    145\u001b[0m         \u001b[0mretain_graph\u001b[0m \u001b[0;34m=\u001b[0m \u001b[0mcreate_graph\u001b[0m\u001b[0;34m\u001b[0m\u001b[0;34m\u001b[0m\u001b[0m\n\u001b[1;32m    146\u001b[0m \u001b[0;34m\u001b[0m\u001b[0m\n\u001b[0;32m--> 147\u001b[0;31m     Variable._execution_engine.run_backward(\n\u001b[0m\u001b[1;32m    148\u001b[0m         \u001b[0mtensors\u001b[0m\u001b[0;34m,\u001b[0m \u001b[0mgrad_tensors_\u001b[0m\u001b[0;34m,\u001b[0m \u001b[0mretain_graph\u001b[0m\u001b[0;34m,\u001b[0m \u001b[0mcreate_graph\u001b[0m\u001b[0;34m,\u001b[0m \u001b[0minputs\u001b[0m\u001b[0;34m,\u001b[0m\u001b[0;34m\u001b[0m\u001b[0;34m\u001b[0m\u001b[0m\n\u001b[1;32m    149\u001b[0m         allow_unreachable=True, accumulate_grad=True)  # allow_unreachable flag\n",
      "\u001b[0;31mRuntimeError\u001b[0m: element 0 of tensors does not require grad and does not have a grad_fn"
     ]
    }
   ],
   "source": [
    "optimizer.zero_grad()\n",
    "print(optimizer.zero_grad())\n",
    "loss.backward()\n",
    "print(loss.backward())"
   ]
  },
  {
   "cell_type": "code",
   "execution_count": null,
   "metadata": {},
   "outputs": [],
   "source": [
    "a = 2.45\n",
    "print(a)\n",
    "print(type(a))\n",
    "b = torch.Tensor(np.array(a))"
   ]
  },
  {
   "cell_type": "code",
   "execution_count": null,
   "metadata": {},
   "outputs": [],
   "source": [
    "a = True\n",
    "print(np.vstack([a]))"
   ]
  },
  {
   "cell_type": "code",
   "execution_count": 2,
   "metadata": {},
   "outputs": [],
   "source": [
    "import hickle as hkl\n",
    "\n",
    "a,b = hkl.load('TrialFile')"
   ]
  },
  {
   "cell_type": "code",
   "execution_count": 3,
   "metadata": {},
   "outputs": [
    {
     "name": "stdout",
     "output_type": "stream",
     "text": [
      "[9900.]\n",
      "[array([-500. , -500. , -490.1, -459.7, -450.1, -348.4, -375.5, -260. ,\n",
      "       -297.8, -221.8, -203.2, -202.5, -208.8, -171.3, -163.5, -181.4,\n",
      "       -171.1, -176.8, -152.7, -155.4, -150.3, -138.5, -139. , -151. ,\n",
      "       -132.5, -133. , -122.9, -120.8, -117.4, -107.8, -113.1, -108. ,\n",
      "       -108.5, -111.5, -111.1, -115.6, -119.1, -125.8, -100.7, -109. ,\n",
      "       -113.7, -108.3, -106.4, -104.7, -101.1, -106.9, -100.8, -108.9,\n",
      "       -108.1,  -88.7,  -93.3, -104.7,  -85.7,  -99.6,  -98.9, -127.6,\n",
      "       -108.2, -111.8, -109.1,  -98.6, -109.2,  -89.4,  -94.2,  -98.6,\n",
      "        -92.1, -100. , -102.2,  -99.7, -100.9, -111.5, -102.9,  -99.9,\n",
      "       -104.9,  -87.8,  -96.8, -107.2, -105.1, -102. , -104.3,  -99.9,\n",
      "       -113.2,  -98.2, -107.4, -103.9, -105.2,  -94.9, -102.5, -101.2,\n",
      "       -109.6, -101.3, -102.6, -114.9, -103.5,  -94.8,  -97.3, -107. ,\n",
      "       -110.1,  -95. , -100.6,  -87.2, -100.6, -102.7,  -96.5,  -98.7,\n",
      "       -101.5,  -98. , -103.6,  -95.1,  -97. , -101. ,  -96.3,  -97.7,\n",
      "       -101.3,  -97.4,  -97.5,  -97.7, -104.5,  -95.5,  -86.7,  -93.4,\n",
      "        -86.6,  -99.2,  -99.2, -106.1, -116.9,  -95.5,  -97.1,  -99. ,\n",
      "       -104.8,  -96.3, -100.1, -112.9,  -90. , -103.4, -104.7,  -97.2,\n",
      "        -94. , -101.2,  -96.2, -119.6,  -97.1,  -92.4, -112.4,  -94.6,\n",
      "       -117.9, -107.2, -103. , -106.3, -126.3, -106.9, -101.5, -104.5,\n",
      "       -103.8, -112.6, -107.1, -108.6, -109.8, -100.8, -112.2, -103.1,\n",
      "       -106.8, -105.3, -108.9, -117.5, -103.9,  -82. , -107.2, -111.7,\n",
      "       -107.5, -109.5, -105.7, -109.6, -120.5, -107.3,  -92.9, -119. ,\n",
      "        -88.7, -110.8,  -97.7,  -83.4,  -90. ,  -95.4, -100.2,  -96.4,\n",
      "       -106.3, -107.2, -124.1,  -86.1, -124.4,  -87.3, -119.3, -103.9,\n",
      "       -116.9,  -99.8, -106.1,  -96. , -110.3, -107.8, -101.2, -102.8,\n",
      "       -103.5,  -91.6, -102.8, -113.8, -103.7, -101.1,  -92.3,  -99.4,\n",
      "        -97.8, -122.9, -115.4, -104.9, -118. ,  -98.9, -115. , -105.4,\n",
      "       -100.7,  -96.2,  -99. ,  -90. ,  -95.8,  -98.6,  -96.3,  -97. ,\n",
      "        -97.8, -115.6, -114.7, -101.8, -107.4,  -90.1,  -95.1, -105.5,\n",
      "        -83.4,  -94. , -106.5, -113.4, -116.3, -102.8,  -98.9, -109.9,\n",
      "       -112.4, -112. , -103.9, -105.8, -110.9, -104.5, -113.5, -108.4,\n",
      "       -103.1, -119.4, -109. ,  -91. ,  -98.8,  -96.2, -103.4,  -97.1,\n",
      "        -93.9,  -96.2, -104.8,  -99.6, -112.7, -118.2, -103. , -104.7,\n",
      "        -88.9, -104.7,  -96.4,  -97.5,  -98.9, -102.7,  -84.3, -105.8,\n",
      "        -95.7,  -93.4,  -99.6,  -99.1, -107.6,  -96.8,  -93.6, -101.7,\n",
      "        -96.1,  -98.8, -109.2,  -82.6, -105.6, -107.3, -104.4, -107.8,\n",
      "        -89.1, -105.8,  -91.7,  -96.1,  -92. ,  -86.5, -108.6, -102.4,\n",
      "        -99.5, -112.1, -113.9,  -99.8, -100.1, -106.5, -108.4,  -96.9,\n",
      "        -90. , -107.9, -113.1,  -99.6,  -92.3, -107.9, -104. ,  -94.5,\n",
      "       -100.5,  -92.5, -107.2, -106.8, -101.4,  -93. ,  -91.4,  -84.2,\n",
      "        -86.4,  -95.4,  -91.2, -103.6,  -87.4, -113.3, -104.7,  -92.9,\n",
      "        -90. , -102.5, -102.7,  -88.9, -108.5,  -86. , -101.4,  -98.2,\n",
      "        -88.6,  -95. , -109.6, -108.9, -109. , -117.3,  -94.2, -114.7,\n",
      "       -100.8, -109.4, -114.2,  -97.2, -119.1, -109.3, -103.3,  -95.6,\n",
      "        -94.7, -142.7, -115.2, -102.8,  -93.6, -109. , -104.6, -101.4,\n",
      "        -99.3,  -89.2, -117.2, -104.3,  -96.3,  -95.7, -106. , -105.5,\n",
      "        -85.3,  -89.3, -108.3, -106.6,  -96.7, -100.3,  -90.8,  -91.7,\n",
      "        -98.9, -110.7,  -88.9,  -92.9,  -94.2,  -96.9,  -83.5,  -90.8,\n",
      "        -99.8,  -91.4,  -99.8,  -92.7,  -95.3, -100.6,  -97.9,  -94.5,\n",
      "        -98.2,  -84.3,  -81. , -109.9,  -99. ,  -98. , -109.3,  -86.9,\n",
      "        -87.3,  -86.9,  -96.5,  -93.5, -110. ,  -98.2, -107.4,  -98.1,\n",
      "       -101.1,  -92.1,  -92.5, -105.9,  -89.1,  -86.1,  -85.6,  -99.5,\n",
      "        -85.9,  -87.3,  -95.5,  -92.4, -105.9,  -91.8,  -97. ,  -93.6,\n",
      "        -96.2, -111.5,  -95.2,  -88.7,  -94.3,  -95.1,  -91. ,  -94.7,\n",
      "        -91.8,  -87.7, -100.8, -108. ,  -87.7, -100.5,  -82. ,  -88.1,\n",
      "       -100.4,  -84.7,  -91.7,  -90.3,  -89.4,  -95.6,  -91. ,  -88.5,\n",
      "        -89. , -125.4,  -97.4,  -88.1,  -86.4,  -94.3,  -85.6,  -91.2,\n",
      "        -91.5,  -90.9, -104.4,  -94.2,  -92.1,  -94.9,  -90.9,  -99.2,\n",
      "        -96.1,  -97.6,  -85.1,  -95.2,  -83.8, -100.2, -102.8, -101.4,\n",
      "        -86.3,  -94.3, -101.4,  -91.5, -101.2, -101.7,  -93.8, -108. ,\n",
      "       -112.8,  -90.6, -102. ,  -97.8,  -81.4, -102.7,  -92.5,  -91.7,\n",
      "        -92.8,  -90.8,  -86. ,  -98.1,  -94.8, -110.6,  -94.9,  -99.8,\n",
      "        -97.3, -109.5,  -96.7, -100.1, -102.1,  -99.8, -101.3, -100.5,\n",
      "        -89.8,  -93.6, -115.2, -107.4, -113.7, -107.7, -108.7, -100.7,\n",
      "        -96.3, -109.6, -100.1, -115.1, -101.7, -121.8,  -95.9,  -99.4,\n",
      "        -92.1, -102.1, -105.7, -108.2, -120.9, -107.5,  -95. ,  -94.6,\n",
      "       -102.8, -103.9, -102.2, -127.5, -113.6,  -97.9, -101. ,  -97.5,\n",
      "       -100.4, -105.3, -102.7, -106.7,  -96.7, -111.1, -105.2,  -94.4,\n",
      "       -106.4, -101.3, -105.7, -103.6, -118.7, -100.6,  -98.5, -112.2,\n",
      "       -111. , -113.1, -118.9, -104.6, -105.1, -118.6,  -94.7,  -97. ,\n",
      "        -99.9,  -82.2,  -92.9,  -96.7, -126.5, -102.2, -102. ,  -92.1,\n",
      "        -95.9, -111. , -100.3,  -95. , -101.4, -105.5,  -96.6,  -92.2,\n",
      "        -95. ,  -88.1,  -92. ,  -81.9, -103.7,  -91.9, -106.8, -102.3,\n",
      "       -112.1,  -91.2,  -99.3, -100.9,  -84.2,  -89.9,  -99.8, -105.7,\n",
      "       -105.3,  -98.9, -105.5, -103.1,  -83.3,  -92. ,  -93.3, -105.3,\n",
      "       -102.5,  -98. ,  -92. ,  -89.7,  -97.7,  -94.9,  -99.8, -108. ,\n",
      "        -91.4,  -96.3,  -96.7,  -96.4,  -93.7,  -93.3, -100.7,  -89. ,\n",
      "        -95.5,  -99.8, -110.7, -104.1,  -96.6, -110.9,  -96.6, -103.1,\n",
      "       -105.2,  -97.9, -120.2, -101.9,  -95.2,  -97.8, -103.1,  -79.8,\n",
      "        -99.6, -100.5, -102.8, -106.8,  -96.5, -115.4, -109.5,  -92.7,\n",
      "        -96.1,  -93.5, -107.4, -106.5,  -85.6,  -94.4,  -91.8, -122.2,\n",
      "       -101.5,  -95.5, -116.3, -115.3, -119.1, -105.3, -124.2,  -94.4,\n",
      "       -120.3, -106.6,  -98.9, -101.5, -110.5, -106.9, -102.4, -104.8,\n",
      "       -115.9, -103.6, -110.5,  -88.9, -114.7, -113.9, -100. , -101.8,\n",
      "       -110.8, -115.5, -114.9,  -92.2, -108.9, -111.4, -104.7,  -96.7,\n",
      "       -104.9, -110. , -102.7, -108.4,  -95.2,  -97.6, -101.7, -103.4,\n",
      "        -91.7,  -95.3, -115.7,  -95.9, -116.6, -102.5,  -94.8,  -93.9,\n",
      "       -114.1, -115.7,  -96. , -105.4,  -97.9, -107.5, -118.5, -111.4,\n",
      "        -83.2,  -99.1, -106.8,  -93.8,  -88.9, -102.3, -121.7,  -92.6,\n",
      "       -100.8, -112.5,  -98.2, -101.3, -103.6,  -94.5,  -97.3, -104.7,\n",
      "       -104.7,  -88.4, -121.1, -101.3, -101.9, -146.4, -101.5, -106.7,\n",
      "       -105.8, -110.6, -106.8, -116.8, -115.9, -105. ,  -96.5, -126.5,\n",
      "       -124.9, -105.5, -106.8, -121.2,  -92.2,  -91.7, -104.7, -101. ,\n",
      "       -105.9, -110.7, -106.3, -108.3, -100. ,  -99.5, -100.7,  -95.1,\n",
      "       -104.7, -122. ,  -94.6,  -96.9, -103.3,  -93.3,  -89.4, -100.8,\n",
      "       -110.8,  -92.4, -103.5,  -88.4,  -99.6, -108.8, -103.5,  -90.8,\n",
      "        -84. ,  -91.5, -121.3,  -99.2, -115.6, -109. , -105.7, -106.4,\n",
      "       -106.4,  -96.7, -112.7, -108.1, -106.1, -109.9,  -95.8, -107.3,\n",
      "       -121.3, -103.8, -107.3,  -97.5,  -97.7, -103.2, -103.3,  -96.5,\n",
      "        -88.8,  -98.6,  -94.1,  -86.3,  -94.7, -101.2,  -85.3, -102. ,\n",
      "       -103.3,  -96. ,  -99.9, -116.4,  -92.6, -102.2,  -95. ,  -99.7,\n",
      "        -91.9,  -83.5,  -91.1,  -96. ,  -96.4,  -90.1, -102.9,  -92.2,\n",
      "        -92.1,  -94.5,  -86. ,  -89.6,  -93. ,  -86.2,  -94.7,  -93.3,\n",
      "        -90.4,  -90.5,  -90.9,  -98.7,  -97.9, -101. , -102.8,  -88.6,\n",
      "        -86.8,  -97.3,  -85. ,  -84.3,  -88.7,  -85.2,  -86.8,  -75.8,\n",
      "        -87.9,  -83.4,  -98.4,  -88.3,  -96.5,  -85.5,  -90.6,  -92. ,\n",
      "        -89.4,  -83.9, -140.6,  -80.5,  -96.7,  -98.5,  -91.6,  -94.8,\n",
      "        -86.9,  -93.6,  -88.9,  -98.4,  -91. ,  -90.8,  -89. ,  -94.5,\n",
      "        -93.5,  -98.2,  -95.4,  -87.8,  -81.9,  -87.2,  -90.6,  -83.6,\n",
      "        -94.7, -102.5,  -89.9,  -98.9,  -93.7,  -92.4,  -82.8,  -93. ,\n",
      "        -85.6,  -82.1,  -91.7,  -79.6,  -97.8,  -82.6,  -75. ,  -87.1,\n",
      "        -87.2,  -98. ,  -79.8,  -86.8,  -88.8, -100.6,  -81.2,  -94.8,\n",
      "       -103.1,  -84.9,  -90.9,  -99. ,  -91.6,  -90.6,  -95.8,  -82.6,\n",
      "        -98.9,  -85.5,  -99.3,  -99.9,  -88.7,  -94.8,  -75.2, -101.5,\n",
      "        -94.7,  -81.7,  -98.7,  -85.9,  -88.5,  -88.8,  -86.1,  -80.5,\n",
      "        -82.9,  -94.5,  -85.9,  -79.1, -104.8,  -83.1,  -87.8,  -93.3,\n",
      "        -75.3,  -87.6,  -77.8,  -83.8,  -91. ,  -79.3, -103.5, -100.1,\n",
      "        -93.2,  -88.1,  -84. ,  -79.8,  -88.4,  -93.8,  -87.2, -107.2,\n",
      "        -75.6,  -86.3,  -95.6,  -89. ,  -76.8,  -91.2,  -97.5,  -93.5,\n",
      "        -81.6,  -86.4, -105. ,  -96.9,  -93.5,  -88.4,  -77.1,  -78.6,\n",
      "        -94.2,  -93.2,  -95.5,  -75.9,  -81. ,  -82. ,  -94.1,  -75.2,\n",
      "        -87.1,  -89.4,  -88. ,  -86.6,  -93.7,  -78.8,  -77.9,  -92.1,\n",
      "        -77. ,  -81.7,  -83.7,  -73.7,  -86. ,  -78.4,  -83.3,  -88.2,\n",
      "        -83.7,  -95.3,  -73.6,  -86.3,  -84.9,  -88.2,  -91.2,  -86.4,\n",
      "        -80.8,  -83.3,  -82.8,  -81.2,  -93.2,  -81. ,  -75.4,  -84.6])]\n"
     ]
    }
   ],
   "source": [
    "print(a)\n",
    "print(b)"
   ]
  },
  {
   "cell_type": "code",
   "execution_count": null,
   "metadata": {},
   "outputs": [],
   "source": []
  }
 ],
 "metadata": {
  "kernelspec": {
   "display_name": "rl",
   "language": "python",
   "name": "rl"
  },
  "language_info": {
   "codemirror_mode": {
    "name": "ipython",
    "version": 3
   },
   "file_extension": ".py",
   "mimetype": "text/x-python",
   "name": "python",
   "nbconvert_exporter": "python",
   "pygments_lexer": "ipython3",
   "version": "3.8.5"
  }
 },
 "nbformat": 4,
 "nbformat_minor": 4
}
