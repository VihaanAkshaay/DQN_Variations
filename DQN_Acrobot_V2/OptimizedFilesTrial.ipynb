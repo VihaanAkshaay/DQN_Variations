{
 "cells": [
  {
   "cell_type": "code",
   "execution_count": 1,
   "metadata": {},
   "outputs": [],
   "source": [
    "%load_ext autoreload\n",
    "%autoreload 2\n",
    "\n",
    "import gym\n",
    "import numpy as np\n",
    "import random\n",
    "from collections import namedtuple, deque\n",
    "\n",
    "\n",
    "\n",
    "import torch\n",
    "import torch.nn as nn\n",
    "import torch.nn.functional as F\n",
    "import torch.optim as optim\n",
    "\n",
    "import datetime\n",
    "import matplotlib.pyplot as plt\n",
    "%matplotlib inline"
   ]
  },
  {
   "cell_type": "code",
   "execution_count": 2,
   "metadata": {},
   "outputs": [],
   "source": [
    "from QNetworks import QNetwork1\n",
    "from ReplayBuffer import ReplayBuffer\n",
    "from Agents import *\n",
    "from DQN_Algorithms import dqn_acrobot"
   ]
  },
  {
   "cell_type": "code",
   "execution_count": 3,
   "metadata": {},
   "outputs": [
    {
     "name": "stdout",
     "output_type": "stream",
     "text": [
      "State shape:  6\n",
      "Action shape:  3\n"
     ]
    }
   ],
   "source": [
    "env = gym.make('Acrobot-v1')\n",
    "env.seed(0)\n",
    "\n",
    "state_shape = env.observation_space.shape[0]\n",
    "action_shape = env.action_space.n\n",
    "\n",
    "print('State shape: ', state_shape)\n",
    "print('Action shape: ', action_shape)"
   ]
  },
  {
   "cell_type": "code",
   "execution_count": 4,
   "metadata": {},
   "outputs": [],
   "source": [
    "def dqn(n_episodes=10000, max_t=1000, eps_start=1.0, eps_end=0.01, eps_decay=0.995):\n",
    "    \"\"\"Deep Q-Learning.\n",
    "    \n",
    "    Params\n",
    "    ======\n",
    "        n_episodes (int): maximum number of training episodes\n",
    "        max_t (int): maximum number of timesteps per episode\n",
    "        eps_start (float): starting value of epsilon, for epsilon-greedy action selection\n",
    "        eps_end (float): minimum value of epsilon\n",
    "        eps_decay (float): multiplicative factor (per episode) for decreasing epsilon\n",
    "    \"\"\"\n",
    "    scores = []                 # list containing scores from each episode\n",
    "    scores_window_printing = deque(maxlen=10) # For printing in the graph\n",
    "    scores_window= deque(maxlen=100)  # last 100 scores for checking if the avg is more than 195\n",
    "    eps = eps_start                    # initialize epsilon\n",
    "    for i_episode in range(1, n_episodes+1):\n",
    "        state = env.reset()\n",
    "        score = 0\n",
    "        for t in range(max_t):\n",
    "            action = agent.act(state, eps)\n",
    "            next_state, reward, done, _ = env.step(action)\n",
    "            agent.step(state, action, reward, next_state, done)\n",
    "            state = next_state\n",
    "            score += reward\n",
    "            if done:\n",
    "                break \n",
    "        scores_window.append(score)       # save most recent score\n",
    "        scores_window_printing.append(score)              # save most recent score\n",
    "        eps = max(eps_end, eps_decay*eps) # decrease epsilon\n",
    "        print('\\rEpisode {}\\tAverage Score: {:.2f}'.format(i_episode, np.mean(scores_window)), end=\"\")  \n",
    "        if i_episode % 10 == 0: \n",
    "            scores.append(np.mean(scores_window_printing))        \n",
    "        if i_episode % 100 == 0: \n",
    "            print('\\rEpisode {}\\tAverage Score: {:.2f}'.format(i_episode, np.mean(scores_window)))\n",
    "        if np.mean(scores_window)>=-80.0:\n",
    "            print('\\nEnvironment solved in {:d} episodes!\\tAverage Score: {:.2f}'.format(i_episode-100, np.mean(scores_window)))\n",
    "            break\n",
    "    return [np.array(scores),i_episode-100]"
   ]
  },
  {
   "cell_type": "code",
   "execution_count": null,
   "metadata": {},
   "outputs": [
    {
     "name": "stdout",
     "output_type": "stream",
     "text": [
      "Episode 100\tAverage Score: -401.22\n",
      "Episode 200\tAverage Score: -186.23\n",
      "Episode 300\tAverage Score: -142.63\n",
      "Episode 400\tAverage Score: -118.48\n",
      "Episode 500\tAverage Score: -114.34\n",
      "Episode 600\tAverage Score: -108.98\n",
      "Episode 700\tAverage Score: -105.04\n",
      "Episode 800\tAverage Score: -104.44\n",
      "Episode 900\tAverage Score: -100.58\n",
      "Episode 1000\tAverage Score: -99.21\n",
      "Episode 1100\tAverage Score: -105.10\n",
      "Episode 1200\tAverage Score: -100.83\n",
      "Episode 1300\tAverage Score: -100.25\n",
      "Episode 1400\tAverage Score: -96.062\n",
      "Episode 1500\tAverage Score: -97.40\n",
      "Episode 1600\tAverage Score: -96.79\n",
      "Episode 1700\tAverage Score: -93.69\n",
      "Episode 1800\tAverage Score: -93.75\n",
      "Episode 1900\tAverage Score: -102.57\n",
      "Episode 2000\tAverage Score: -103.95\n",
      "Episode 2100\tAverage Score: -96.488\n",
      "Episode 2200\tAverage Score: -95.09\n",
      "Episode 2300\tAverage Score: -95.23\n",
      "Episode 2400\tAverage Score: -91.73\n",
      "Episode 2500\tAverage Score: -95.66\n",
      "Episode 2600\tAverage Score: -91.61\n",
      "Episode 2700\tAverage Score: -94.57\n",
      "Episode 2800\tAverage Score: -90.26\n",
      "Episode 2900\tAverage Score: -91.01\n",
      "Episode 3000\tAverage Score: -88.24\n",
      "Episode 3100\tAverage Score: -94.69\n",
      "Episode 3200\tAverage Score: -99.335\n",
      "Episode 3300\tAverage Score: -95.11\n",
      "Episode 3400\tAverage Score: -98.20\n",
      "Episode 3500\tAverage Score: -97.03\n",
      "Episode 3600\tAverage Score: -109.35\n",
      "Episode 3700\tAverage Score: -115.64\n",
      "Episode 3800\tAverage Score: -102.59\n",
      "Episode 3900\tAverage Score: -97.926\n",
      "Episode 4000\tAverage Score: -99.672\n",
      "Episode 4100\tAverage Score: -97.386\n",
      "Episode 4200\tAverage Score: -105.66\n",
      "Episode 4300\tAverage Score: -106.42\n",
      "Episode 4400\tAverage Score: -97.960\n",
      "Episode 4500\tAverage Score: -94.92\n",
      "Episode 4600\tAverage Score: -99.587\n",
      "Episode 4700\tAverage Score: -96.496\n",
      "Episode 4800\tAverage Score: -100.15\n",
      "Episode 4900\tAverage Score: -93.480\n",
      "Episode 5000\tAverage Score: -92.57\n",
      "Episode 5100\tAverage Score: -89.80\n",
      "Episode 5200\tAverage Score: -95.32\n",
      "Episode 5300\tAverage Score: -95.10\n",
      "Episode 5400\tAverage Score: -95.34\n",
      "Episode 5500\tAverage Score: -93.32\n",
      "Episode 5600\tAverage Score: -96.51\n",
      "Episode 5700\tAverage Score: -94.35\n",
      "Episode 5800\tAverage Score: -87.62\n",
      "Episode 5900\tAverage Score: -90.03\n",
      "Episode 6000\tAverage Score: -94.02\n",
      "Episode 6100\tAverage Score: -96.41\n",
      "Episode 6200\tAverage Score: -98.369\n",
      "Episode 6300\tAverage Score: -93.74\n",
      "Episode 6400\tAverage Score: -98.18\n",
      "Episode 6500\tAverage Score: -101.62\n",
      "Episode 6600\tAverage Score: -98.175\n",
      "Episode 6700\tAverage Score: -100.43\n",
      "Episode 6800\tAverage Score: -96.423\n",
      "Episode 6900\tAverage Score: -95.21\n",
      "Episode 7000\tAverage Score: -97.62\n",
      "Episode 7100\tAverage Score: -100.45\n",
      "Episode 7200\tAverage Score: -100.25\n",
      "Episode 7300\tAverage Score: -98.421\n",
      "Episode 7400\tAverage Score: -110.77\n",
      "Episode 7500\tAverage Score: -106.54\n",
      "Episode 7600\tAverage Score: -103.94\n",
      "Episode 7700\tAverage Score: -106.99\n",
      "Episode 7800\tAverage Score: -103.42\n",
      "Episode 7900\tAverage Score: -96.636\n",
      "Episode 8000\tAverage Score: -99.772\n",
      "Episode 8100\tAverage Score: -96.838\n",
      "Episode 8200\tAverage Score: -88.75\n",
      "Episode 8300\tAverage Score: -90.58\n",
      "Episode 8400\tAverage Score: -93.10\n",
      "Episode 8500\tAverage Score: -94.75\n",
      "Episode 8600\tAverage Score: -91.57\n",
      "Episode 8700\tAverage Score: -86.67\n",
      "Episode 8800\tAverage Score: -92.19\n",
      "Episode 8900\tAverage Score: -88.71\n",
      "Episode 9000\tAverage Score: -88.38\n",
      "Episode 9100\tAverage Score: -90.88\n",
      "Episode 9200\tAverage Score: -87.17\n",
      "Episode 9300\tAverage Score: -85.77\n",
      "Episode 9400\tAverage Score: -86.73\n",
      "Episode 9500\tAverage Score: -93.65\n",
      "Episode 9600\tAverage Score: -90.06\n",
      "Episode 9700\tAverage Score: -93.56\n",
      "Episode 9800\tAverage Score: -98.09\n",
      "Episode 9900\tAverage Score: -100.40\n",
      "Episode 10000\tAverage Score: -92.79\n",
      "Episode 100\tAverage Score: -372.16\n",
      "Episode 200\tAverage Score: -171.22\n",
      "Episode 300\tAverage Score: -126.75\n",
      "Episode 400\tAverage Score: -109.60\n",
      "Episode 500\tAverage Score: -111.62\n",
      "Episode 600\tAverage Score: -105.74\n",
      "Episode 700\tAverage Score: -98.861\n",
      "Episode 800\tAverage Score: -104.23\n",
      "Episode 900\tAverage Score: -100.80\n",
      "Episode 1000\tAverage Score: -103.93\n",
      "Episode 1100\tAverage Score: -96.624\n",
      "Episode 1200\tAverage Score: -100.84\n",
      "Episode 1300\tAverage Score: -98.343\n",
      "Episode 1400\tAverage Score: -90.96\n",
      "Episode 1500\tAverage Score: -96.09\n",
      "Episode 1600\tAverage Score: -99.349\n",
      "Episode 1700\tAverage Score: -94.46\n",
      "Episode 1800\tAverage Score: -90.16\n",
      "Episode 1900\tAverage Score: -94.25\n",
      "Episode 2000\tAverage Score: -88.07\n",
      "Episode 2100\tAverage Score: -96.65\n",
      "Episode 2200\tAverage Score: -92.996\n",
      "Episode 2300\tAverage Score: -90.00\n",
      "Episode 2400\tAverage Score: -90.69\n",
      "Episode 2500\tAverage Score: -92.17\n",
      "Episode 2600\tAverage Score: -90.83\n",
      "Episode 2700\tAverage Score: -93.03\n",
      "Episode 2800\tAverage Score: -90.06\n",
      "Episode 2900\tAverage Score: -91.66\n",
      "Episode 3000\tAverage Score: -89.71\n",
      "Episode 3100\tAverage Score: -88.62\n",
      "Episode 3200\tAverage Score: -89.92\n",
      "Episode 3300\tAverage Score: -86.91\n",
      "Episode 3400\tAverage Score: -91.74\n",
      "Episode 3500\tAverage Score: -87.02\n",
      "Episode 3600\tAverage Score: -90.52\n",
      "Episode 3700\tAverage Score: -88.55\n",
      "Episode 3800\tAverage Score: -91.39\n",
      "Episode 3900\tAverage Score: -88.72\n",
      "Episode 4000\tAverage Score: -86.69\n",
      "Episode 4100\tAverage Score: -82.60\n",
      "Episode 4200\tAverage Score: -84.93\n",
      "Episode 4300\tAverage Score: -83.29\n",
      "Episode 4400\tAverage Score: -82.29\n",
      "Episode 4500\tAverage Score: -84.30\n",
      "Episode 4600\tAverage Score: -84.95\n",
      "Episode 4700\tAverage Score: -79.93\n",
      "\n",
      "Environment solved in 4600 episodes!\tAverage Score: -79.93\n",
      "Episode 100\tAverage Score: -484.15\n",
      "Episode 200\tAverage Score: -494.96\n",
      "Episode 300\tAverage Score: -500.00\n",
      "Episode 400\tAverage Score: -500.00\n",
      "Episode 500\tAverage Score: -454.00\n",
      "Episode 600\tAverage Score: -497.24\n",
      "Episode 700\tAverage Score: -485.69\n",
      "Episode 800\tAverage Score: -499.45\n",
      "Episode 900\tAverage Score: -500.00\n",
      "Episode 967\tAverage Score: -470.45"
     ]
    }
   ],
   "source": [
    "\n",
    "    \n",
    "no_siblings5 = 1\n",
    "sibling_scores5 = []\n",
    "sibling_lives5 = np.zeros(no_siblings5)\n",
    "\n",
    "begin_time5 = datetime.datetime.now()\n",
    "for i in range(no_siblings5):\n",
    "    \n",
    "    agent = Agent5(state_size=state_shape,action_size = action_shape,seed = 0)\n",
    "    [temp_scores,sibling_lives5[i]] = dqn()\n",
    "    sibling_scores5.append(temp_scores)\n",
    "    \n",
    "no_siblings6 = 1\n",
    "sibling_scores6 = []\n",
    "sibling_lives6 = np.zeros(no_siblings6)\n",
    "\n",
    "begin_time6 = datetime.datetime.now()\n",
    "for i in range(no_siblings6):\n",
    "    \n",
    "    agent = Agent6(state_size=state_shape,action_size = action_shape,seed = 0)\n",
    "    [temp_scores,sibling_lives6[i]] = dqn()\n",
    "    sibling_scores6.append(temp_scores)\n",
    "    \n",
    "no_siblings7 = 1\n",
    "sibling_scores7 = []\n",
    "sibling_lives7 = np.zeros(no_siblings7)\n",
    "\n",
    "begin_time7 = datetime.datetime.now()\n",
    "for i in range(no_siblings7):\n",
    "    \n",
    "    agent = Agent7(state_size=state_shape,action_size = action_shape,seed = 0)\n",
    "    [temp_scores,sibling_lives7[i]] = dqn()\n",
    "    sibling_scores7.append(temp_scores)\n",
    "    \n",
    "no_siblings8 = 1\n",
    "sibling_scores8 = []\n",
    "sibling_lives8 = np.zeros(no_siblings4)\n",
    "\n",
    "begin_time4 = datetime.datetime.now()\n",
    "for i in range(no_siblings8):\n",
    "    \n",
    "    agent = Agent8(state_size=state_shape,action_size = action_shape,seed = 0)\n",
    "    [temp_scores,sibling_lives8[i]] = dqn()\n",
    "    sibling_scores8.append(temp_scores)"
   ]
  },
  {
   "cell_type": "code",
   "execution_count": 6,
   "metadata": {},
   "outputs": [
    {
     "name": "stdout",
     "output_type": "stream",
     "text": [
      "tensor([[0.3303, 0.8665, 0.1212],\n",
      "        [0.4020, 0.3005, 0.8721]])\n",
      "tensor([[0.8665],\n",
      "        [0.8721]])\n"
     ]
    }
   ],
   "source": [
    "a = torch.rand(2,3)\n",
    "print(a)\n",
    "print(a.max(1)[0].unsqueeze(1))"
   ]
  },
  {
   "cell_type": "code",
   "execution_count": 7,
   "metadata": {},
   "outputs": [],
   "source": [
    "from QNetworks import QNetwork1\n",
    "device = torch.device(\"cuda:0\" if torch.cuda.is_available() else \"cpu\")\n",
    "myNetwork = QNetwork1(3,2,0).to(device)"
   ]
  },
  {
   "cell_type": "code",
   "execution_count": 14,
   "metadata": {},
   "outputs": [
    {
     "name": "stdout",
     "output_type": "stream",
     "text": [
      "[1. 2. 3. 4. 5. 6.]\n",
      "tensor([[1., 2., 3., 4., 5., 6.]], device='cuda:0')\n"
     ]
    }
   ],
   "source": [
    "b = np.array([1.0,2.0,3.0,4.0,5.0,6.0])\n",
    "print(b)\n",
    "b = torch.from_numpy(b).float().unsqueeze(0).to(device)\n",
    "print(b)"
   ]
  },
  {
   "cell_type": "code",
   "execution_count": 9,
   "metadata": {},
   "outputs": [
    {
     "name": "stdout",
     "output_type": "stream",
     "text": [
      "tensor([[0.3096]], device='cuda:0')\n"
     ]
    }
   ],
   "source": [
    "\n",
    "print(myNetwork(b).detach().max(1)[0].unsqueeze(1))"
   ]
  },
  {
   "cell_type": "code",
   "execution_count": 17,
   "metadata": {},
   "outputs": [
    {
     "name": "stdout",
     "output_type": "stream",
     "text": [
      "[[0.59763217 0.29764736 0.02443431]\n",
      " [0.93420254 0.2968834  0.0448549 ]\n",
      " [0.80191385 0.56115691 0.75301579]\n",
      " [0.29965167 0.7396202  0.88320427]\n",
      " [0.93918335 0.48557929 0.02016853]\n",
      " [0.80376276 0.3885355  0.2136312 ]\n",
      " [0.04214878 0.47487267 0.24353678]\n",
      " [0.25737305 0.27221931 0.75448379]\n",
      " [0.10761848 0.85141035 0.22594016]\n",
      " [0.81420701 0.79866703 0.02299499]]\n"
     ]
    }
   ],
   "source": [
    "experiences1 = np.random.rand(10,3)\n",
    "print(experiences1)"
   ]
  },
  {
   "cell_type": "code",
   "execution_count": 20,
   "metadata": {},
   "outputs": [
    {
     "name": "stdout",
     "output_type": "stream",
     "text": [
      "tensor([[0.5770, 0.4560, 0.5029],\n",
      "        [0.3156, 0.6510, 0.9008],\n",
      "        [0.8389, 0.7519, 0.7526],\n",
      "        [0.8823, 0.7111, 0.1753],\n",
      "        [0.8260, 0.4738, 0.5264],\n",
      "        [0.6019, 0.1371, 0.9816],\n",
      "        [0.3569, 0.3338, 0.0744],\n",
      "        [0.9041, 0.9731, 0.0608],\n",
      "        [0.7011, 0.6813, 0.6678],\n",
      "        [0.5494, 0.6704, 0.5797]], device='cuda:0')\n",
      "tensor([[0.0397, 0.6178, 0.7907],\n",
      "        [0.7246, 0.5015, 0.3224],\n",
      "        [0.7746, 0.1702, 0.2958],\n",
      "        [0.1349, 0.7963, 0.4098],\n",
      "        [0.6295, 0.9349, 0.3768],\n",
      "        [0.4827, 0.4871, 0.4768],\n",
      "        [0.8459, 0.1922, 0.9849],\n",
      "        [0.7778, 0.1209, 0.1090],\n",
      "        [0.1273, 0.0706, 0.1182],\n",
      "        [0.5836, 0.4598, 0.2176]], device='cuda:0')\n"
     ]
    }
   ],
   "source": [
    "experiences1 = np.random.rand(10,3)\n",
    "states1 = torch.from_numpy(np.vstack([e for e in experiences1 if e is not None])).float().to(device)\n",
    "print(states1)\n",
    "\n",
    "experiences2 = np.random.rand(10,3)\n",
    "states2 = torch.from_numpy(np.vstack([e for e in experiences2 if e is not None])).float().to(device)\n",
    "print(states2)"
   ]
  },
  {
   "cell_type": "code",
   "execution_count": 15,
   "metadata": {},
   "outputs": [
    {
     "name": "stdout",
     "output_type": "stream",
     "text": [
      "[ 0.99612767 -0.08791855  0.99998543  0.00539742 -0.09194186  0.09558882]\n"
     ]
    }
   ],
   "source": [
    "print(env.reset())"
   ]
  },
  {
   "cell_type": "code",
   "execution_count": 26,
   "metadata": {},
   "outputs": [
    {
     "name": "stdout",
     "output_type": "stream",
     "text": [
      "tensor([[0.1065],\n",
      "        [0.1336],\n",
      "        [0.1261],\n",
      "        [0.0946],\n",
      "        [0.1027],\n",
      "        [0.1209],\n",
      "        [0.0700],\n",
      "        [0.1024],\n",
      "        [0.1209],\n",
      "        [0.1184]], device='cuda:0')\n",
      "tensor([[0.1220],\n",
      "        [0.0977],\n",
      "        [0.0751],\n",
      "        [0.1146],\n",
      "        [0.1154],\n",
      "        [0.1082],\n",
      "        [0.1085],\n",
      "        [0.0573],\n",
      "        [0.0663],\n",
      "        [0.0904]], device='cuda:0')\n"
     ]
    }
   ],
   "source": [
    "print(myNetwork(states1).detach().max(1)[0].unsqueeze(1))\n",
    "tempstates1 = myNetwork(states1).detach().max(1)[0].unsqueeze(1)\n",
    "print(myNetwork(states2).detach().max(1)[0].unsqueeze(1))\n",
    "tempstates2 = myNetwork(states2).detach().max(1)[0].unsqueeze(1)"
   ]
  },
  {
   "cell_type": "code",
   "execution_count": 27,
   "metadata": {},
   "outputs": [
    {
     "name": "stdout",
     "output_type": "stream",
     "text": [
      "tensor(0.0012, device='cuda:0')\n"
     ]
    }
   ],
   "source": [
    "loss = F.mse_loss(tempstates1, tempstates2)\n",
    "print(loss)"
   ]
  },
  {
   "cell_type": "code",
   "execution_count": 30,
   "metadata": {},
   "outputs": [],
   "source": [
    "import torch.optim as optim  \n",
    "optimizer = optim.Adam(myNetwork.parameters(), lr=0.005)\n"
   ]
  },
  {
   "cell_type": "code",
   "execution_count": 31,
   "metadata": {},
   "outputs": [
    {
     "name": "stdout",
     "output_type": "stream",
     "text": [
      "None\n"
     ]
    },
    {
     "ename": "RuntimeError",
     "evalue": "element 0 of tensors does not require grad and does not have a grad_fn",
     "output_type": "error",
     "traceback": [
      "\u001b[0;31m---------------------------------------------------------------------------\u001b[0m",
      "\u001b[0;31mRuntimeError\u001b[0m                              Traceback (most recent call last)",
      "\u001b[0;32m<ipython-input-31-7572ac5c61f3>\u001b[0m in \u001b[0;36m<module>\u001b[0;34m\u001b[0m\n\u001b[1;32m      1\u001b[0m \u001b[0moptimizer\u001b[0m\u001b[0;34m.\u001b[0m\u001b[0mzero_grad\u001b[0m\u001b[0;34m(\u001b[0m\u001b[0;34m)\u001b[0m\u001b[0;34m\u001b[0m\u001b[0;34m\u001b[0m\u001b[0m\n\u001b[1;32m      2\u001b[0m \u001b[0mprint\u001b[0m\u001b[0;34m(\u001b[0m\u001b[0moptimizer\u001b[0m\u001b[0;34m.\u001b[0m\u001b[0mzero_grad\u001b[0m\u001b[0;34m(\u001b[0m\u001b[0;34m)\u001b[0m\u001b[0;34m)\u001b[0m\u001b[0;34m\u001b[0m\u001b[0;34m\u001b[0m\u001b[0m\n\u001b[0;32m----> 3\u001b[0;31m \u001b[0mloss\u001b[0m\u001b[0;34m.\u001b[0m\u001b[0mbackward\u001b[0m\u001b[0;34m(\u001b[0m\u001b[0;34m)\u001b[0m\u001b[0;34m\u001b[0m\u001b[0;34m\u001b[0m\u001b[0m\n\u001b[0m\u001b[1;32m      4\u001b[0m \u001b[0mprint\u001b[0m\u001b[0;34m(\u001b[0m\u001b[0mloss\u001b[0m\u001b[0;34m.\u001b[0m\u001b[0mbackward\u001b[0m\u001b[0;34m(\u001b[0m\u001b[0;34m)\u001b[0m\u001b[0;34m)\u001b[0m\u001b[0;34m\u001b[0m\u001b[0;34m\u001b[0m\u001b[0m\n",
      "\u001b[0;32m~/anaconda3/envs/rl/lib/python3.8/site-packages/torch/_tensor.py\u001b[0m in \u001b[0;36mbackward\u001b[0;34m(self, gradient, retain_graph, create_graph, inputs)\u001b[0m\n\u001b[1;32m    253\u001b[0m                 \u001b[0mcreate_graph\u001b[0m\u001b[0;34m=\u001b[0m\u001b[0mcreate_graph\u001b[0m\u001b[0;34m,\u001b[0m\u001b[0;34m\u001b[0m\u001b[0;34m\u001b[0m\u001b[0m\n\u001b[1;32m    254\u001b[0m                 inputs=inputs)\n\u001b[0;32m--> 255\u001b[0;31m         \u001b[0mtorch\u001b[0m\u001b[0;34m.\u001b[0m\u001b[0mautograd\u001b[0m\u001b[0;34m.\u001b[0m\u001b[0mbackward\u001b[0m\u001b[0;34m(\u001b[0m\u001b[0mself\u001b[0m\u001b[0;34m,\u001b[0m \u001b[0mgradient\u001b[0m\u001b[0;34m,\u001b[0m \u001b[0mretain_graph\u001b[0m\u001b[0;34m,\u001b[0m \u001b[0mcreate_graph\u001b[0m\u001b[0;34m,\u001b[0m \u001b[0minputs\u001b[0m\u001b[0;34m=\u001b[0m\u001b[0minputs\u001b[0m\u001b[0;34m)\u001b[0m\u001b[0;34m\u001b[0m\u001b[0;34m\u001b[0m\u001b[0m\n\u001b[0m\u001b[1;32m    256\u001b[0m \u001b[0;34m\u001b[0m\u001b[0m\n\u001b[1;32m    257\u001b[0m     \u001b[0;32mdef\u001b[0m \u001b[0mregister_hook\u001b[0m\u001b[0;34m(\u001b[0m\u001b[0mself\u001b[0m\u001b[0;34m,\u001b[0m \u001b[0mhook\u001b[0m\u001b[0;34m)\u001b[0m\u001b[0;34m:\u001b[0m\u001b[0;34m\u001b[0m\u001b[0;34m\u001b[0m\u001b[0m\n",
      "\u001b[0;32m~/anaconda3/envs/rl/lib/python3.8/site-packages/torch/autograd/__init__.py\u001b[0m in \u001b[0;36mbackward\u001b[0;34m(tensors, grad_tensors, retain_graph, create_graph, grad_variables, inputs)\u001b[0m\n\u001b[1;32m    145\u001b[0m         \u001b[0mretain_graph\u001b[0m \u001b[0;34m=\u001b[0m \u001b[0mcreate_graph\u001b[0m\u001b[0;34m\u001b[0m\u001b[0;34m\u001b[0m\u001b[0m\n\u001b[1;32m    146\u001b[0m \u001b[0;34m\u001b[0m\u001b[0m\n\u001b[0;32m--> 147\u001b[0;31m     Variable._execution_engine.run_backward(\n\u001b[0m\u001b[1;32m    148\u001b[0m         \u001b[0mtensors\u001b[0m\u001b[0;34m,\u001b[0m \u001b[0mgrad_tensors_\u001b[0m\u001b[0;34m,\u001b[0m \u001b[0mretain_graph\u001b[0m\u001b[0;34m,\u001b[0m \u001b[0mcreate_graph\u001b[0m\u001b[0;34m,\u001b[0m \u001b[0minputs\u001b[0m\u001b[0;34m,\u001b[0m\u001b[0;34m\u001b[0m\u001b[0;34m\u001b[0m\u001b[0m\n\u001b[1;32m    149\u001b[0m         allow_unreachable=True, accumulate_grad=True)  # allow_unreachable flag\n",
      "\u001b[0;31mRuntimeError\u001b[0m: element 0 of tensors does not require grad and does not have a grad_fn"
     ]
    }
   ],
   "source": [
    "optimizer.zero_grad()\n",
    "print(optimizer.zero_grad())\n",
    "loss.backward()\n",
    "print(loss.backward())"
   ]
  },
  {
   "cell_type": "code",
   "execution_count": null,
   "metadata": {},
   "outputs": [],
   "source": [
    "a = 2.45\n",
    "print(a)\n",
    "print(type(a))\n",
    "b = torch.Tensor(np.array(a))"
   ]
  },
  {
   "cell_type": "code",
   "execution_count": null,
   "metadata": {},
   "outputs": [],
   "source": [
    "a = True\n",
    "print(np.vstack([a]))"
   ]
  },
  {
   "cell_type": "code",
   "execution_count": 3,
   "metadata": {},
   "outputs": [],
   "source": [
    "import hickle as hkl\n",
    "\n",
    "a,b,c = hkl.load('Data_Case1')"
   ]
  },
  {
   "cell_type": "code",
   "execution_count": 4,
   "metadata": {},
   "outputs": [
    {
     "name": "stdout",
     "output_type": "stream",
     "text": [
      "[737.]\n",
      "[array([-500. , -500. , -500. , -467. , -459.9, -427.7, -357.9, -285.6,\n",
      "       -256.1, -251.6, -260.3, -219.3, -186.1, -222.8, -171.2, -192.7,\n",
      "       -132.9, -139.5, -162.1, -170.9, -141.3, -138.2, -119.2, -126.9,\n",
      "       -118.1, -113.5, -112.2, -104.2,  -97.5, -108.7, -112.6, -100.6,\n",
      "        -91.8, -104.8,  -90.7,  -93.1, -101.1, -103.9,  -96.2,  -94.8,\n",
      "       -110.7,  -90.1, -130.2,  -95.6,  -93.3,  -87.9,  -83. ,  -87.2,\n",
      "        -85.5,  -85.2,  -85.2,  -85.2,  -84.4,  -83.8,  -83.1,  -77.4,\n",
      "        -89.5,  -86.5, -102.7,  -80.3,  -84.7,  -85.8,  -87. ,  -84.3,\n",
      "        -73.6,  -74.1,  -76.4, -103.5,  -79.3,  -89.8,  -78.8,  -77. ,\n",
      "        -82.9,  -88.2,  -80. ,  -80. ,  -80.3,  -84.5,  -75. ,  -77.5,\n",
      "        -83.4,  -83.2,  -77.4])]\n",
      "0:06:46.151717\n"
     ]
    }
   ],
   "source": [
    "print(a)\n",
    "print(b)\n",
    "print(c)"
   ]
  },
  {
   "cell_type": "code",
   "execution_count": null,
   "metadata": {},
   "outputs": [],
   "source": []
  }
 ],
 "metadata": {
  "kernelspec": {
   "display_name": "rl",
   "language": "python",
   "name": "rl"
  },
  "language_info": {
   "codemirror_mode": {
    "name": "ipython",
    "version": 3
   },
   "file_extension": ".py",
   "mimetype": "text/x-python",
   "name": "python",
   "nbconvert_exporter": "python",
   "pygments_lexer": "ipython3",
   "version": "3.8.5"
  }
 },
 "nbformat": 4,
 "nbformat_minor": 4
}
